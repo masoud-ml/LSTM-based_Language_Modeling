{
  "nbformat": 4,
  "nbformat_minor": 0,
  "metadata": {
    "colab": {
      "provenance": [],
      "collapsed_sections": [
        "yvSnsbITYaAO",
        "12G4E2Yo5-Fn",
        "Akym_6Ffbi_G",
        "Gf0pvcvHYteg",
        "ew7w8FWZY_vv",
        "w_a3OXnSeV0z",
        "RwaY_YcgRayy",
        "RTql4Ftiunfr",
        "voy7Eh1s7Xh8",
        "ujIVtjsYvxOI",
        "wCi-ofSLCzop",
        "B29jrEvwRqXA",
        "A3rnR739GbYb",
        "a4HyLPqcsF43",
        "idRexFij4wgN",
        "PgLgP04P4-aX",
        "NCQjacybOfqV",
        "3ttl0AK3Hvyh",
        "24qT-sgUO2-d",
        "W0QNbC0YPCKZ",
        "G9HgVWslPGsH",
        "o_5f69nwPtY2",
        "De7VreNxQdct",
        "lpJ3wtyctQJH",
        "BrHQCv7q7LF_",
        "BLT4w0ZfAhlJ",
        "uC2GhaXfA8vC",
        "rjGQ-M02cusP",
        "oK20iNRI3Xxb",
        "dLVApK0qFB-C",
        "6TaQe58jFdGe",
        "aiUgKAAtHS5k",
        "H3kEkLS7KTXw",
        "KZ9UIdmkfxlA",
        "FzcQQwFuar_7"
      ]
    },
    "kernelspec": {
      "name": "python3",
      "display_name": "Python 3"
    },
    "language_info": {
      "name": "python"
    }
  },
  "cells": [
    {
      "cell_type": "markdown",
      "source": [
        "#  <b>Language Modeling</b>\n",
        "<img src=\"https://quiq.com/wp-content/uploads/2023/10/How-LLM-have-evolved-Feature.png\"/>"
      ],
      "metadata": {
        "id": "-uXkcYhkIxS-"
      }
    },
    {
      "cell_type": "markdown",
      "source": [
        "# 🔴 **Environment Setup**"
      ],
      "metadata": {
        "id": "yvSnsbITYaAO"
      }
    },
    {
      "cell_type": "markdown",
      "source": [
        "## 🟠 Connect Google Drive"
      ],
      "metadata": {
        "id": "12G4E2Yo5-Fn"
      }
    },
    {
      "cell_type": "code",
      "source": [
        "from google.colab import drive\n",
        "drive.mount('/content/drive')"
      ],
      "metadata": {
        "id": "CkWuRpG9542F"
      },
      "execution_count": null,
      "outputs": []
    },
    {
      "cell_type": "markdown",
      "source": [
        "## 🟠 Install Required Packages"
      ],
      "metadata": {
        "id": "Akym_6Ffbi_G"
      }
    },
    {
      "cell_type": "markdown",
      "source": [
        "### 🟡 Install `torchmetrics`"
      ],
      "metadata": {
        "id": "Gf0pvcvHYteg"
      }
    },
    {
      "cell_type": "code",
      "source": [
        "!pip install -q torchmetrics"
      ],
      "metadata": {
        "id": "ytPkW1FFboZ3"
      },
      "execution_count": null,
      "outputs": []
    },
    {
      "cell_type": "markdown",
      "source": [
        "### 🟡 Install `torchtext` (stable version)"
      ],
      "metadata": {
        "id": "ew7w8FWZY_vv"
      }
    },
    {
      "cell_type": "code",
      "source": [
        "!pip install -q torchtext==0.17.0"
      ],
      "metadata": {
        "id": "e3fVB9i4yfuE"
      },
      "execution_count": null,
      "outputs": []
    },
    {
      "cell_type": "markdown",
      "source": [
        "### 🟡 Install `portalocker`"
      ],
      "metadata": {
        "id": "eUbYWVbBZJ8U"
      }
    },
    {
      "cell_type": "code",
      "source": [
        "!pip install -q portalocker>=2.0.0"
      ],
      "metadata": {
        "id": "qbLpmMjO0vB8"
      },
      "execution_count": null,
      "outputs": []
    },
    {
      "cell_type": "markdown",
      "source": [
        "# 🔴 **Imports**"
      ],
      "metadata": {
        "id": "w_a3OXnSeV0z"
      }
    },
    {
      "cell_type": "code",
      "source": [
        "import zipfile\n",
        "\n",
        "import numpy as np\n",
        "import matplotlib.pyplot as plt\n",
        "\n",
        "import torchtext\n",
        "from torchtext.datasets import WikiText2\n",
        "from torchtext.data.utils import get_tokenizer\n",
        "from torchtext.vocab import build_vocab_from_iterator\n",
        "\n",
        "import torch\n",
        "from torch import nn\n",
        "from torch.utils.data import DataLoader, Dataset, IterDataPipe, random_split\n",
        "\n",
        "from torch import optim\n",
        "from collections import Counter\n",
        "from torch.nn import functional as F\n",
        "\n",
        "import tqdm\n",
        "import torchmetrics as tm"
      ],
      "metadata": {
        "id": "vhlVJEkJeTsV"
      },
      "execution_count": null,
      "outputs": []
    },
    {
      "cell_type": "code",
      "source": [
        "!python --version"
      ],
      "metadata": {
        "id": "DEzYlyeqTZqQ",
        "colab": {
          "base_uri": "https://localhost:8080/"
        },
        "outputId": "ad3caca2-5f4e-4c4f-80b3-01a9ddfbec0d"
      },
      "execution_count": null,
      "outputs": [
        {
          "output_type": "stream",
          "name": "stdout",
          "text": [
            "Python 3.10.12\n"
          ]
        }
      ]
    },
    {
      "cell_type": "code",
      "source": [
        "for lib in [np, torch, torchtext, tqdm]:\n",
        "  print(lib.__name__, '-->', lib.__version__)"
      ],
      "metadata": {
        "id": "6DWjGTq6T8Jg",
        "colab": {
          "base_uri": "https://localhost:8080/"
        },
        "outputId": "73f2ccfe-253c-42c4-81d9-e47d3bfaea80"
      },
      "execution_count": null,
      "outputs": [
        {
          "output_type": "stream",
          "name": "stdout",
          "text": [
            "numpy --> 1.26.4\n",
            "torch --> 2.2.0+cu121\n",
            "torchtext --> 0.17.0+cpu\n",
            "tqdm --> 4.66.6\n"
          ]
        }
      ]
    },
    {
      "cell_type": "markdown",
      "source": [
        "# 🔴 **Utils**"
      ],
      "metadata": {
        "id": "RwaY_YcgRayy"
      }
    },
    {
      "cell_type": "code",
      "source": [
        "class AverageMeter(object):\n",
        "    def __init__(self):\n",
        "        self.reset()\n",
        "\n",
        "    def reset(self):\n",
        "        self.val = 0\n",
        "        self.avg = 0\n",
        "        self.sum = 0\n",
        "        self.count = 0\n",
        "\n",
        "    def update(self, val, n=1):\n",
        "        self.val = val\n",
        "        self.sum += val * n\n",
        "        self.count += n\n",
        "        self.avg = self.sum / self.count"
      ],
      "metadata": {
        "id": "8yMS7bbmRayz"
      },
      "execution_count": null,
      "outputs": []
    },
    {
      "cell_type": "code",
      "source": [
        "def num_trainable_params(model):\n",
        "  nums = sum(p.numel() for p in model.parameters() if p.requires_grad)/1e6\n",
        "  return nums"
      ],
      "metadata": {
        "id": "PpKbTUEIRayz"
      },
      "execution_count": null,
      "outputs": []
    },
    {
      "cell_type": "markdown",
      "source": [
        "# 🔴 **Dataset**"
      ],
      "metadata": {
        "id": "RTql4Ftiunfr"
      }
    },
    {
      "cell_type": "markdown",
      "source": [
        "## 🟠 Copy & Unzip Dataset File"
      ],
      "metadata": {
        "id": "voy7Eh1s7Xh8"
      }
    },
    {
      "cell_type": "code",
      "source": [
        "zip_path = '/content/drive/MyDrive/wikitext-2-v1.zip'\n",
        "extract_path = '/content/'\n",
        "\n",
        "with zipfile.ZipFile(zip_path, 'r') as zip_ref:\n",
        "    zip_ref.extractall(extract_path)"
      ],
      "metadata": {
        "id": "IT_xPm106Sqr"
      },
      "execution_count": null,
      "outputs": []
    },
    {
      "cell_type": "markdown",
      "source": [
        "## 🟠 Load Dataset"
      ],
      "metadata": {
        "id": "ujIVtjsYvxOI"
      }
    },
    {
      "cell_type": "code",
      "source": [
        "class IterableTextDataPipe(IterDataPipe):\n",
        "\n",
        "    def __init__(self, file_path):\n",
        "        self.file_path = file_path\n",
        "\n",
        "    def __iter__(self):\n",
        "        with open(self.file_path, encoding='utf-8') as file:\n",
        "            for line in file:\n",
        "                yield line.strip()\n",
        "\n",
        "\n",
        "class WikiTextDataset:\n",
        "    def __init__(self, train_dir, valid_dir, test_dir):\n",
        "        self.train = IterableTextDataPipe(train_dir)\n",
        "        self.valid = IterableTextDataPipe(valid_dir)\n",
        "        self.test = IterableTextDataPipe(test_dir)"
      ],
      "metadata": {
        "id": "sR9mu10LSDx_"
      },
      "execution_count": null,
      "outputs": []
    },
    {
      "cell_type": "code",
      "source": [
        "dataset = WikiTextDataset(train_dir='/content/wikitext-2/wiki.train.tokens',\n",
        "                          valid_dir='/content/wikitext-2/wiki.valid.tokens',\n",
        "                          test_dir='/content/wikitext-2/wiki.test.tokens')\n",
        "\n",
        "train_iter = dataset.train\n",
        "valid_iter = dataset.valid\n",
        "test_iter = dataset.test"
      ],
      "metadata": {
        "id": "5JCwVBdNSIR0"
      },
      "execution_count": null,
      "outputs": []
    },
    {
      "cell_type": "code",
      "source": [
        "train_iter_ = iter(train_iter)"
      ],
      "metadata": {
        "id": "C4y7BWSuBg8h"
      },
      "execution_count": null,
      "outputs": []
    },
    {
      "cell_type": "code",
      "source": [
        "next(train_iter_)"
      ],
      "metadata": {
        "colab": {
          "base_uri": "https://localhost:8080/"
        },
        "id": "YN9hs2f6AeYY",
        "outputId": "32ee0361-b9e7-4f2a-9602-ca5e6b4b6892"
      },
      "execution_count": null,
      "outputs": [
        {
          "output_type": "execute_result",
          "data": {
            "text/plain": [
              "''"
            ],
            "application/vnd.google.colaboratory.intrinsic+json": {
              "type": "string"
            }
          },
          "metadata": {},
          "execution_count": 14
        }
      ]
    },
    {
      "cell_type": "markdown",
      "source": [
        "## 🟠 Build Vocabulary"
      ],
      "metadata": {
        "id": "wCi-ofSLCzop"
      }
    },
    {
      "cell_type": "code",
      "source": [
        "tokenizer = get_tokenizer('basic_english')\n",
        "vocab = build_vocab_from_iterator(map(tokenizer, train_iter), specials=['<unk>'])\n",
        "vocab.set_default_index(vocab['<unk>'])"
      ],
      "metadata": {
        "id": "vMUVDnmcMT7S"
      },
      "execution_count": null,
      "outputs": []
    },
    {
      "cell_type": "code",
      "source": [
        "vocab(['hi', 'how'])"
      ],
      "metadata": {
        "colab": {
          "base_uri": "https://localhost:8080/"
        },
        "id": "dT1gbFuxMxYN",
        "outputId": "9e6a0c6a-da64-4f14-f7b3-7a7b22bd5b73"
      },
      "execution_count": null,
      "outputs": [
        {
          "output_type": "execute_result",
          "data": {
            "text/plain": [
              "[9206, 416]"
            ]
          },
          "metadata": {},
          "execution_count": 16
        }
      ]
    },
    {
      "cell_type": "code",
      "source": [
        "len(vocab)"
      ],
      "metadata": {
        "colab": {
          "base_uri": "https://localhost:8080/"
        },
        "id": "lhzMYtDxUFpU",
        "outputId": "c7bb1e43-6c53-4114-f003-a49b5579b09c"
      },
      "execution_count": null,
      "outputs": [
        {
          "output_type": "execute_result",
          "data": {
            "text/plain": [
              "28782"
            ]
          },
          "metadata": {},
          "execution_count": 17
        }
      ]
    },
    {
      "cell_type": "code",
      "source": [
        "torch.save(vocab, '/content/vocab.pt')"
      ],
      "metadata": {
        "id": "0Y7zeJ1bVX93"
      },
      "execution_count": null,
      "outputs": []
    },
    {
      "cell_type": "markdown",
      "source": [
        "## 🟠 EDA"
      ],
      "metadata": {
        "id": "B29jrEvwRqXA"
      }
    },
    {
      "cell_type": "markdown",
      "source": [
        "### 🟡 Mean sentence length"
      ],
      "metadata": {
        "id": "A3rnR739GbYb"
      }
    },
    {
      "cell_type": "code",
      "source": [
        "total_sentence_count = 0\n",
        "total_sentence_length = 0\n",
        "\n",
        "for line in train_iter:\n",
        "    sentences = line.split('.')\n",
        "\n",
        "    for sentence in sentences:\n",
        "        tokens = sentence.strip().split()\n",
        "        sentence_length = len(tokens)\n",
        "\n",
        "        if sentence_length > 0:\n",
        "            total_sentence_count += 1\n",
        "            total_sentence_length += sentence_length\n",
        "\n",
        "mean_sentence_length = total_sentence_length / total_sentence_count\n",
        "\n",
        "print(f'Mean sentence length in Wikitext-2: {mean_sentence_length:.2f}')"
      ],
      "metadata": {
        "id": "jHVKeKwk2WaG",
        "colab": {
          "base_uri": "https://localhost:8080/"
        },
        "outputId": "b057fb8b-e89f-4500-f600-a4aa27d5d722"
      },
      "execution_count": null,
      "outputs": [
        {
          "output_type": "stream",
          "name": "stdout",
          "text": [
            "Mean sentence length in Wikitext-2: 21.69\n"
          ]
        }
      ]
    },
    {
      "cell_type": "markdown",
      "source": [
        "### 🟡 The most and the least common words"
      ],
      "metadata": {
        "id": "a4HyLPqcsF43"
      }
    },
    {
      "cell_type": "code",
      "source": [
        "freqs = Counter([1, 2, 2, 3, 2, 3])\n",
        "freqs"
      ],
      "metadata": {
        "id": "cBnEjagdTN8n",
        "colab": {
          "base_uri": "https://localhost:8080/"
        },
        "outputId": "2d933792-2a8b-4fc2-bcb1-e3ba312b8d13"
      },
      "execution_count": null,
      "outputs": [
        {
          "output_type": "execute_result",
          "data": {
            "text/plain": [
              "Counter({1: 1, 2: 3, 3: 2})"
            ]
          },
          "metadata": {},
          "execution_count": 20
        }
      ]
    },
    {
      "cell_type": "code",
      "source": [
        "freqs = Counter()\n",
        "for tokens in map(tokenizer, train_iter):\n",
        "  freqs.update(tokens)"
      ],
      "metadata": {
        "id": "80NfzhXgpWAU"
      },
      "execution_count": null,
      "outputs": []
    },
    {
      "cell_type": "code",
      "source": [
        "# The most common\n",
        "freqs.most_common()"
      ],
      "metadata": {
        "colab": {
          "base_uri": "https://localhost:8080/"
        },
        "id": "5B9zppvSpjrt",
        "outputId": "0fb1577c-d8a3-4c75-a4a2-570269fda9d4"
      },
      "execution_count": null,
      "outputs": [
        {
          "output_type": "execute_result",
          "data": {
            "text/plain": [
              "[('the', 130768),\n",
              " (',', 102615),\n",
              " ('.', 83397),\n",
              " ('of', 57030),\n",
              " ('<unk>', 54625),\n",
              " ('and', 50735),\n",
              " ('in', 45015),\n",
              " ('to', 39521),\n",
              " ('a', 36523),\n",
              " ('=', 29570),\n",
              " ('was', 21008),\n",
              " (\"'\", 18484),\n",
              " ('@-@', 16906),\n",
              " ('on', 15140),\n",
              " ('as', 15058),\n",
              " ('s', 14936),\n",
              " ('that', 14351),\n",
              " ('for', 13794),\n",
              " ('with', 13012),\n",
              " ('by', 12718),\n",
              " (')', 12004),\n",
              " ('(', 11992),\n",
              " ('@', 11786),\n",
              " ('is', 11691),\n",
              " ('it', 9273),\n",
              " ('from', 9229),\n",
              " ('at', 9070),\n",
              " ('his', 9019),\n",
              " ('he', 8706),\n",
              " ('were', 7334),\n",
              " ('an', 6250),\n",
              " ('had', 5707),\n",
              " ('which', 5546),\n",
              " ('be', 4859),\n",
              " ('are', 4714),\n",
              " ('this', 4560),\n",
              " ('their', 4290),\n",
              " ('first', 4242),\n",
              " ('but', 4233),\n",
              " ('not', 4006),\n",
              " ('–', 3934),\n",
              " ('one', 3910),\n",
              " ('they', 3894),\n",
              " ('its', 3877),\n",
              " ('also', 3842),\n",
              " ('after', 3749),\n",
              " ('her', 3670),\n",
              " ('or', 3655),\n",
              " ('two', 3565),\n",
              " ('have', 3470),\n",
              " ('has', 3325),\n",
              " ('been', 3263),\n",
              " ('who', 3029),\n",
              " ('she', 2884),\n",
              " ('new', 2767),\n",
              " ('other', 2729),\n",
              " ('during', 2690),\n",
              " ('when', 2655),\n",
              " ('time', 2607),\n",
              " ('all', 2557),\n",
              " ('into', 2443),\n",
              " ('more', 2402),\n",
              " ('would', 2332),\n",
              " ('1', 2284),\n",
              " ('i', 2248),\n",
              " ('over', 2137),\n",
              " ('while', 2127),\n",
              " ('game', 2077),\n",
              " ('only', 2061),\n",
              " ('most', 2027),\n",
              " ('2', 1988),\n",
              " ('three', 1976),\n",
              " ('later', 1928),\n",
              " ('about', 1922),\n",
              " ('up', 1918),\n",
              " ('may', 1877),\n",
              " ('between', 1871),\n",
              " ('him', 1848),\n",
              " ('song', 1828),\n",
              " ('there', 1801),\n",
              " ('some', 1771),\n",
              " ('than', 1765),\n",
              " ('out', 1760),\n",
              " ('no', 1702),\n",
              " ('season', 1692),\n",
              " ('year', 1668),\n",
              " ('made', 1642),\n",
              " ('city', 1609),\n",
              " ('3', 1601),\n",
              " ('such', 1584),\n",
              " ('before', 1557),\n",
              " ('where', 1524),\n",
              " ('used', 1508),\n",
              " ('series', 1498),\n",
              " ('them', 1488),\n",
              " ('second', 1465),\n",
              " ('world', 1462),\n",
              " ('being', 1454),\n",
              " ('years', 1451),\n",
              " ('both', 1448),\n",
              " ('many', 1447),\n",
              " ('000', 1447),\n",
              " ('these', 1445),\n",
              " ('film', 1405),\n",
              " ('however', 1397),\n",
              " ('album', 1383),\n",
              " ('south', 1373),\n",
              " ('war', 1370),\n",
              " ('through', 1364),\n",
              " ('5', 1361),\n",
              " ('north', 1357),\n",
              " ('then', 1329),\n",
              " ('can', 1320),\n",
              " ('part', 1319),\n",
              " ('early', 1299),\n",
              " ('several', 1287),\n",
              " ('4', 1279),\n",
              " ('number', 1278),\n",
              " ('state', 1274),\n",
              " ('including', 1273),\n",
              " ('against', 1272),\n",
              " ('well', 1262),\n",
              " ('/', 1261),\n",
              " ('known', 1259),\n",
              " ('became', 1255),\n",
              " ('—', 1240),\n",
              " ('m', 1239),\n",
              " ('four', 1236),\n",
              " ('united', 1216),\n",
              " ('under', 1198),\n",
              " ('although', 1194),\n",
              " ('century', 1178),\n",
              " ('day', 1165),\n",
              " ('following', 1152),\n",
              " ('music', 1134),\n",
              " ('began', 1102),\n",
              " ('because', 1090),\n",
              " ('work', 1083),\n",
              " ('so', 1083),\n",
              " ('like', 1075),\n",
              " ('end', 1071),\n",
              " ('called', 1065),\n",
              " ('episode', 1064),\n",
              " ('until', 1040),\n",
              " ('found', 1039),\n",
              " ('said', 1038),\n",
              " ('area', 1034),\n",
              " ('could', 1033),\n",
              " ('states', 1019),\n",
              " ('american', 1018),\n",
              " ('people', 1015),\n",
              " ('6', 1014),\n",
              " ('since', 995),\n",
              " ('british', 989),\n",
              " ('each', 984),\n",
              " ('released', 979),\n",
              " ('same', 979),\n",
              " ('team', 974),\n",
              " ('church', 968),\n",
              " ('around', 966),\n",
              " ('10', 966),\n",
              " ('long', 960),\n",
              " ('did', 958),\n",
              " ('along', 957),\n",
              " ('million', 940),\n",
              " ('five', 938),\n",
              " ('life', 938),\n",
              " ('national', 916),\n",
              " ('0', 914),\n",
              " ('back', 910),\n",
              " ('john', 909),\n",
              " ('high', 903),\n",
              " ('company', 900),\n",
              " ('t', 900),\n",
              " ('another', 894),\n",
              " ('best', 891),\n",
              " ('use', 888),\n",
              " ('%', 881),\n",
              " ('you', 877),\n",
              " ('if', 872),\n",
              " ('final', 871),\n",
              " ('september', 869),\n",
              " ('august', 865),\n",
              " ('river', 861),\n",
              " ('large', 856),\n",
              " ('what', 846),\n",
              " ('west', 843),\n",
              " ('8', 837),\n",
              " ('km', 836),\n",
              " ('off', 835),\n",
              " ('down', 831),\n",
              " ('7', 825),\n",
              " ('due', 819),\n",
              " ('games', 817),\n",
              " ('june', 810),\n",
              " ('line', 809),\n",
              " ('history', 808),\n",
              " ('will', 803),\n",
              " ('name', 799),\n",
              " ('now', 791),\n",
              " ('any', 786),\n",
              " ('storm', 786),\n",
              " ('home', 784),\n",
              " ('received', 783),\n",
              " ('9', 777),\n",
              " ('government', 774),\n",
              " ('described', 774),\n",
              " ('six', 771),\n",
              " ('within', 770),\n",
              " ('species', 770),\n",
              " ('much', 769),\n",
              " ('group', 764),\n",
              " ('family', 758),\n",
              " ('october', 757),\n",
              " ('played', 755),\n",
              " ('$', 753),\n",
              " ('east', 748),\n",
              " ('league', 747),\n",
              " ('general', 744),\n",
              " ('took', 744),\n",
              " ('set', 744),\n",
              " ('[', 738),\n",
              " (']', 738),\n",
              " ('major', 737),\n",
              " ('road', 737),\n",
              " ('july', 733),\n",
              " ('wrote', 732),\n",
              " ('single', 731),\n",
              " ('won', 731),\n",
              " ('late', 731),\n",
              " ('system', 729),\n",
              " ('video', 725),\n",
              " ('play', 725),\n",
              " ('times', 724),\n",
              " ('us', 724),\n",
              " ('according', 723),\n",
              " ('record', 718),\n",
              " ('third', 716),\n",
              " ('based', 713),\n",
              " ('april', 711),\n",
              " ('man', 707),\n",
              " ('included', 702),\n",
              " ('just', 700),\n",
              " ('march', 699),\n",
              " ('book', 697),\n",
              " ('those', 694),\n",
              " ('january', 693),\n",
              " ('show', 693),\n",
              " ('named', 691),\n",
              " ('very', 690),\n",
              " ('even', 690),\n",
              " ('england', 689),\n",
              " ('main', 687),\n",
              " ('white', 687),\n",
              " ('left', 686),\n",
              " ('york', 685),\n",
              " ('men', 684),\n",
              " ('small', 681),\n",
              " ('school', 681),\n",
              " ('though', 678),\n",
              " ('division', 672),\n",
              " ('club', 671),\n",
              " ('way', 669),\n",
              " ('old', 668),\n",
              " ('original', 667),\n",
              " ('near', 666),\n",
              " ('last', 665),\n",
              " ('12', 662),\n",
              " ('november', 661),\n",
              " ('water', 657),\n",
              " ('place', 654),\n",
              " ('death', 654),\n",
              " ('20', 653),\n",
              " ('15', 650),\n",
              " ('tropical', 650),\n",
              " ('december', 647),\n",
              " ('built', 646),\n",
              " ('own', 644),\n",
              " ('character', 641),\n",
              " ('we', 641),\n",
              " ('songs', 639),\n",
              " ('top', 633),\n",
              " ('de', 632),\n",
              " ('form', 631),\n",
              " ('player', 630),\n",
              " ('30', 630),\n",
              " ('do', 625),\n",
              " ('king', 625),\n",
              " ('black', 624),\n",
              " ('public', 623),\n",
              " ('german', 619),\n",
              " ('island', 618),\n",
              " ('next', 617),\n",
              " ('2009', 616),\n",
              " ('make', 613),\n",
              " ('still', 612),\n",
              " ('2008', 612),\n",
              " ('2010', 611),\n",
              " ('u', 600),\n",
              " ('role', 598),\n",
              " ('led', 596),\n",
              " ('again', 595),\n",
              " ('moved', 590),\n",
              " ('ii', 589),\n",
              " ('career', 589),\n",
              " ('university', 589),\n",
              " ('without', 587),\n",
              " ('love', 585),\n",
              " ('often', 584),\n",
              " ('among', 582),\n",
              " ('recorded', 581),\n",
              " ('further', 578),\n",
              " ('hurricane', 578),\n",
              " ('military', 576),\n",
              " ('period', 575),\n",
              " ('star', 575),\n",
              " ('local', 574),\n",
              " ('considered', 573),\n",
              " ('army', 570),\n",
              " ('production', 570),\n",
              " ('release', 569),\n",
              " ('side', 568),\n",
              " ('2007', 567),\n",
              " ('great', 565),\n",
              " ('house', 557),\n",
              " ('came', 554),\n",
              " ('published', 554),\n",
              " ('written', 552),\n",
              " ('100', 551),\n",
              " ('continued', 550),\n",
              " ('power', 549),\n",
              " ('town', 547),\n",
              " ('english', 546),\n",
              " ('story', 545),\n",
              " ('forces', 542),\n",
              " ('days', 542),\n",
              " ('run', 541),\n",
              " ('route', 540),\n",
              " ('held', 540),\n",
              " ('french', 539),\n",
              " ('support', 535),\n",
              " ('14', 534),\n",
              " ('16', 531),\n",
              " ('11', 529),\n",
              " ('force', 527),\n",
              " ('half', 527),\n",
              " ('take', 526),\n",
              " ('few', 526),\n",
              " ('international', 525),\n",
              " ('having', 524),\n",
              " ('25', 523),\n",
              " ('county', 523),\n",
              " ('throughout', 521),\n",
              " ('land', 521),\n",
              " ('2011', 519),\n",
              " ('point', 518),\n",
              " ('become', 516),\n",
              " ('18', 516),\n",
              " ('order', 515),\n",
              " ('children', 515),\n",
              " ('2006', 515),\n",
              " ('light', 513),\n",
              " ('version', 513),\n",
              " ('title', 511),\n",
              " ('former', 509),\n",
              " ('lost', 507),\n",
              " ('track', 507),\n",
              " ('different', 506),\n",
              " ('development', 505),\n",
              " ('&', 505),\n",
              " ('field', 504),\n",
              " ('ship', 503),\n",
              " ('similar', 502),\n",
              " ('despite', 499),\n",
              " ('live', 498),\n",
              " ('common', 497),\n",
              " ('members', 496),\n",
              " ('park', 494),\n",
              " ('february', 492),\n",
              " ('c', 492),\n",
              " ('13', 491),\n",
              " ('gave', 488),\n",
              " ('produced', 488),\n",
              " ('short', 487),\n",
              " ('southern', 487),\n",
              " ('!', 486),\n",
              " ('little', 485),\n",
              " ('dylan', 485),\n",
              " ('site', 482),\n",
              " ('once', 480),\n",
              " ('2012', 480),\n",
              " ('television', 480),\n",
              " ('writing', 480),\n",
              " ('given', 479),\n",
              " ('central', 478),\n",
              " ('control', 476),\n",
              " ('total', 476),\n",
              " ('country', 475),\n",
              " ('band', 475),\n",
              " ('service', 472),\n",
              " ('northern', 470),\n",
              " ('re', 469),\n",
              " ('include', 465),\n",
              " ('young', 464),\n",
              " ('position', 463),\n",
              " ('fire', 463),\n",
              " ('battalion', 460),\n",
              " ('making', 457),\n",
              " ('never', 457),\n",
              " ('away', 456),\n",
              " ('seven', 455),\n",
              " ('tour', 455),\n",
              " ('lead', 454),\n",
              " ('air', 454),\n",
              " ('age', 454),\n",
              " ('2013', 452),\n",
              " ('how', 451),\n",
              " ('reported', 450),\n",
              " ('open', 450),\n",
              " ('seen', 450),\n",
              " ('battle', 449),\n",
              " ('highway', 449),\n",
              " ('western', 448),\n",
              " ('good', 448),\n",
              " ('eastern', 448),\n",
              " ('stated', 446),\n",
              " ('attack', 445),\n",
              " ('red', 445),\n",
              " ('h', 444),\n",
              " ('match', 444),\n",
              " ('god', 444),\n",
              " ('st', 443),\n",
              " ('across', 443),\n",
              " ('body', 442),\n",
              " ('instead', 442),\n",
              " ('returned', 441),\n",
              " ('ships', 441),\n",
              " ('established', 440),\n",
              " ('using', 438),\n",
              " ('population', 435),\n",
              " ('ft', 435),\n",
              " ('modern', 434),\n",
              " ('construction', 434),\n",
              " ('week', 434),\n",
              " ('america', 434),\n",
              " ('noted', 432),\n",
              " ('my', 431),\n",
              " ('less', 431),\n",
              " ('royal', 431),\n",
              " ('head', 430),\n",
              " ('reached', 430),\n",
              " ('developed', 429),\n",
              " ('building', 429),\n",
              " ('eight', 429),\n",
              " ('rock', 428),\n",
              " ('players', 427),\n",
              " ('ireland', 427),\n",
              " ('brigade', 426),\n",
              " ('b', 425),\n",
              " ('president', 424),\n",
              " ('result', 423),\n",
              " ('thought', 422),\n",
              " ('performance', 420),\n",
              " ('right', 420),\n",
              " ('miles', 418),\n",
              " ('london', 418),\n",
              " ('himself', 417),\n",
              " ('father', 416),\n",
              " ('per', 415),\n",
              " ('important', 414),\n",
              " ('style', 413),\n",
              " ('performed', 412),\n",
              " ('felt', 411),\n",
              " ('various', 410),\n",
              " ('australia', 410),\n",
              " ('full', 409),\n",
              " ('17', 409),\n",
              " ('feet', 408),\n",
              " ('areas', 408),\n",
              " ('previous', 407),\n",
              " ('events', 406),\n",
              " ('win', 405),\n",
              " ('low', 404),\n",
              " ('died', 401),\n",
              " ('kingdom', 401),\n",
              " ('guitar', 400),\n",
              " ('football', 399),\n",
              " ('others', 398),\n",
              " ('originally', 397),\n",
              " ('project', 397),\n",
              " ('too', 397),\n",
              " ('art', 397),\n",
              " ('mm', 397),\n",
              " ('went', 397),\n",
              " ('human', 396),\n",
              " ('upon', 395),\n",
              " ('23', 395),\n",
              " ('level', 395),\n",
              " ('works', 394),\n",
              " ('range', 394),\n",
              " ('started', 391),\n",
              " ('formed', 391),\n",
              " ('characters', 390),\n",
              " ('james', 390),\n",
              " ('political', 390),\n",
              " ('women', 388),\n",
              " ('should', 387),\n",
              " ('cup', 386),\n",
              " ('port', 384),\n",
              " ('caused', 383),\n",
              " ('50', 383),\n",
              " ('eventually', 382),\n",
              " ('located', 382),\n",
              " ('28', 382),\n",
              " ('21', 382),\n",
              " ('19', 380),\n",
              " ('24', 378),\n",
              " ('stars', 378),\n",
              " ('critics', 377),\n",
              " ('sent', 377),\n",
              " ('ground', 377),\n",
              " ('created', 376),\n",
              " ('able', 376),\n",
              " ('me', 374),\n",
              " ('2004', 374),\n",
              " ('class', 373),\n",
              " ('2005', 373),\n",
              " ('d', 372),\n",
              " ('chart', 371),\n",
              " ('night', 371),\n",
              " ('born', 369),\n",
              " ('region', 369),\n",
              " ('street', 367),\n",
              " ('together', 366),\n",
              " ('design', 366),\n",
              " ('center', 366),\n",
              " ('court', 366),\n",
              " ('director', 365),\n",
              " ('present', 364),\n",
              " ('popular', 364),\n",
              " ('strong', 364),\n",
              " ('’', 363),\n",
              " ('every', 363),\n",
              " ('award', 363),\n",
              " ('return', 361),\n",
              " ('son', 361),\n",
              " ('remained', 360),\n",
              " ('hero', 360),\n",
              " ('see', 359),\n",
              " ('novel', 358),\n",
              " ('completed', 358),\n",
              " ('guns', 358),\n",
              " ('scored', 357),\n",
              " ('announced', 355),\n",
              " ('australian', 355),\n",
              " ('grand', 354),\n",
              " ('almost', 353),\n",
              " ('fourth', 353),\n",
              " ('22', 353),\n",
              " ('behind', 350),\n",
              " ('least', 350),\n",
              " ('damage', 350),\n",
              " ('26', 349),\n",
              " ('brown', 348),\n",
              " ('ten', 348),\n",
              " ('party', 348),\n",
              " ('heavy', 347),\n",
              " ('added', 347),\n",
              " ('months', 345),\n",
              " ('followed', 345),\n",
              " ('wife', 344),\n",
              " ('appeared', 344),\n",
              " ('killed', 343),\n",
              " ('playing', 342),\n",
              " ('does', 342),\n",
              " ('addition', 342),\n",
              " ('success', 342),\n",
              " ('list', 340),\n",
              " ('awards', 340),\n",
              " ('features', 338),\n",
              " ('aircraft', 335),\n",
              " ('coast', 334),\n",
              " ('sea', 334),\n",
              " ('2003', 334),\n",
              " ('taken', 333),\n",
              " ('david', 331),\n",
              " ('2015', 331),\n",
              " ('leading', 330),\n",
              " ('championship', 329),\n",
              " ('action', 328),\n",
              " ('france', 328),\n",
              " ('either', 327),\n",
              " ('served', 327),\n",
              " ('front', 327),\n",
              " ('europe', 327),\n",
              " ('recording', 327),\n",
              " ('towards', 326),\n",
              " ('operations', 325),\n",
              " ('campaign', 325),\n",
              " ('gold', 324),\n",
              " ('mother', 323),\n",
              " ('put', 323),\n",
              " ('elements', 322),\n",
              " ('decided', 322),\n",
              " ('records', 320),\n",
              " ('close', 320),\n",
              " ('generally', 319),\n",
              " ('magazine', 319),\n",
              " ('believed', 319),\n",
              " ('fleet', 319),\n",
              " ('female', 316),\n",
              " ('post', 316),\n",
              " ('ever', 316),\n",
              " ('carey', 316),\n",
              " ('sold', 315),\n",
              " ('soon', 315),\n",
              " ('poem', 315),\n",
              " ('points', 313),\n",
              " ('infantry', 313),\n",
              " ('significant', 313),\n",
              " ('example', 313),\n",
              " ('move', 312),\n",
              " ('fort', 312),\n",
              " ('goal', 312),\n",
              " ('weeks', 312),\n",
              " ('rather', 311),\n",
              " ('study', 311),\n",
              " ('european', 310),\n",
              " ('outside', 309),\n",
              " ('federer', 309),\n",
              " ('robert', 308),\n",
              " ('opened', 308),\n",
              " ('o', 308),\n",
              " ('directed', 307),\n",
              " ('case', 307),\n",
              " ('help', 306),\n",
              " ('non', 306),\n",
              " ('brought', 306),\n",
              " ('law', 306),\n",
              " ('finished', 305),\n",
              " ('27', 304),\n",
              " ('wales', 304),\n",
              " ('william', 304),\n",
              " ('earlier', 304),\n",
              " ('go', 303),\n",
              " ('featured', 303),\n",
              " ('victory', 302),\n",
              " ('get', 302),\n",
              " ('successful', 300),\n",
              " ('manager', 300),\n",
              " ('act', 299),\n",
              " ('gun', 299),\n",
              " ('stage', 298),\n",
              " ('member', 297),\n",
              " ('provided', 297),\n",
              " ('association', 297),\n",
              " ('opening', 296),\n",
              " ('working', 296),\n",
              " ('village', 296),\n",
              " ('start', 296),\n",
              " ('mid', 296),\n",
              " ('mi', 296),\n",
              " ('wanted', 295),\n",
              " ('council', 295),\n",
              " ('appearance', 294),\n",
              " ('particularly', 293),\n",
              " ('roman', 293),\n",
              " ('jordan', 293),\n",
              " ('troops', 292),\n",
              " ('2014', 291),\n",
              " ('initially', 291),\n",
              " ('depression', 291),\n",
              " ('atlantic', 291),\n",
              " ('40', 291),\n",
              " ('tech', 291),\n",
              " ('evidence', 290),\n",
              " ('29', 290),\n",
              " ('yard', 290),\n",
              " ('office', 289),\n",
              " ('largest', 289),\n",
              " ('find', 289),\n",
              " ('far', 289),\n",
              " ('review', 288),\n",
              " ('blue', 288),\n",
              " ('george', 288),\n",
              " ('dam', 288),\n",
              " ('possible', 287),\n",
              " ('attempt', 287),\n",
              " ('saw', 287),\n",
              " ('special', 286),\n",
              " ('type', 286),\n",
              " ('summer', 285),\n",
              " ('month', 285),\n",
              " ('above', 284),\n",
              " ('union', 284),\n",
              " ('yards', 284),\n",
              " ('19th', 284),\n",
              " ('rest', 283),\n",
              " ('e', 283),\n",
              " ('florida', 283),\n",
              " ('allowed', 281),\n",
              " ('event', 281),\n",
              " ('winds', 281),\n",
              " ('race', 281),\n",
              " ('critical', 280),\n",
              " ('saying', 280),\n",
              " ('creek', 279),\n",
              " ('cross', 279),\n",
              " ('hours', 278),\n",
              " ('whom', 278),\n",
              " ('nine', 277),\n",
              " ('worked', 276),\n",
              " ('2001', 276),\n",
              " ('police', 276),\n",
              " ('plan', 276),\n",
              " ('missouri', 276),\n",
              " ('designed', 275),\n",
              " ('reception', 275),\n",
              " ('society', 275),\n",
              " ('community', 275),\n",
              " ('500', 274),\n",
              " ('previously', 274),\n",
              " ('free', 273),\n",
              " ('forced', 272),\n",
              " ('middle', 272),\n",
              " ('process', 272),\n",
              " ('real', 271),\n",
              " ('remains', 271),\n",
              " ('operation', 271),\n",
              " ('era', 271),\n",
              " ('radio', 271),\n",
              " ('200', 270),\n",
              " ('praised', 269),\n",
              " ('official', 269),\n",
              " ('research', 269),\n",
              " ('increased', 269),\n",
              " ('hall', 268),\n",
              " ('lower', 267),\n",
              " ('station', 267),\n",
              " ('parliament', 267),\n",
              " ('come', 266),\n",
              " ('michael', 266),\n",
              " ('relationship', 266),\n",
              " ('units', 265),\n",
              " ('command', 265),\n",
              " ('commander', 265),\n",
              " ('regiment', 265),\n",
              " ('studio', 265),\n",
              " ('hill', 265),\n",
              " ('£', 264),\n",
              " ('taking', 264),\n",
              " ('base', 264),\n",
              " ('parts', 263),\n",
              " ('writer', 263),\n",
              " ('replaced', 263),\n",
              " ('media', 262),\n",
              " ('navy', 262),\n",
              " ('ball', 262),\n",
              " ('industry', 262),\n",
              " ('social', 261),\n",
              " ('r', 260),\n",
              " ('food', 260),\n",
              " ('highest', 259),\n",
              " ('college', 259),\n",
              " ('co', 259),\n",
              " ('bay', 259),\n",
              " ('reviews', 259),\n",
              " ('beginning', 258),\n",
              " ('claimed', 258),\n",
              " ('°', 258),\n",
              " ('don', 258),\n",
              " ('museum', 257),\n",
              " ('estimated', 257),\n",
              " ('mph', 257),\n",
              " ('canada', 257),\n",
              " ('section', 257),\n",
              " ('goals', 256),\n",
              " ('stone', 256),\n",
              " ('japanese', 255),\n",
              " ('l', 255),\n",
              " ('religious', 255),\n",
              " ('commercial', 255),\n",
              " ('average', 255),\n",
              " ('joined', 255),\n",
              " ('stories', 254),\n",
              " ('involved', 254),\n",
              " ('placed', 254),\n",
              " ('training', 254),\n",
              " ('oldham', 254),\n",
              " ('met', 253),\n",
              " ('signed', 253),\n",
              " ('shot', 253),\n",
              " ('suggested', 253),\n",
              " ('introduced', 253),\n",
              " ('lines', 252),\n",
              " ('sometimes', 252),\n",
              " ('face', 251),\n",
              " ('31', 251),\n",
              " ('today', 251),\n",
              " ('background', 251),\n",
              " ('paul', 251),\n",
              " ('business', 251),\n",
              " ('olivier', 251),\n",
              " ('scene', 250),\n",
              " ('going', 250),\n",
              " ('complete', 250),\n",
              " ('itself', 250),\n",
              " ('structure', 249),\n",
              " ('henry', 249),\n",
              " ('mexico', 249),\n",
              " ('additional', 248),\n",
              " ('available', 248),\n",
              " ('thus', 248),\n",
              " ('give', 248),\n",
              " ('cast', 247),\n",
              " ('loss', 247),\n",
              " ('language', 247),\n",
              " ('date', 247),\n",
              " ('horse', 247),\n",
              " ('whose', 246),\n",
              " ('nearly', 246),\n",
              " ('term', 246),\n",
              " ('sound', 246),\n",
              " ('india', 246),\n",
              " ('thomas', 245),\n",
              " ('fifth', 245),\n",
              " ('past', 245),\n",
              " ('approximately', 244),\n",
              " ('indian', 244),\n",
              " ('must', 244),\n",
              " ('program', 244),\n",
              " ('irish', 244),\n",
              " ('entire', 243),\n",
              " ('capital', 243),\n",
              " ('already', 243),\n",
              " ('friends', 243),\n",
              " ('appointed', 243),\n",
              " ('told', 242),\n",
              " ('damaged', 242),\n",
              " ('native', 242),\n",
              " ('shows', 242),\n",
              " ('prior', 242),\n",
              " ('britain', 242),\n",
              " ('names', 241),\n",
              " ('issue', 241),\n",
              " ('probably', 241),\n",
              " ('turned', 241),\n",
              " ('mark', 241),\n",
              " ('forest', 241),\n",
              " ('sun', 240),\n",
              " ('male', 240),\n",
              " ('winning', 239),\n",
              " ('g', 238),\n",
              " ('-', 238),\n",
              " ('change', 238),\n",
              " ('students', 238),\n",
              " ('our', 238),\n",
              " ('length', 237),\n",
              " ('size', 237),\n",
              " ('passed', 237),\n",
              " ('earth', 237),\n",
              " ('?', 237),\n",
              " ('civil', 236),\n",
              " ('child', 236),\n",
              " ('especially', 236),\n",
              " ('woman', 235),\n",
              " ('christian', 235),\n",
              " ('enough', 235),\n",
              " ('notes', 235),\n",
              " ('overall', 234),\n",
              " ('chinese', 234),\n",
              " ('forward', 234),\n",
              " ('failed', 234),\n",
              " ('running', 234),\n",
              " ('mixed', 234),\n",
              " ('captain', 233),\n",
              " ('better', 233),\n",
              " ('ny', 233),\n",
              " ('limited', 232),\n",
              " ('2002', 232),\n",
              " ('iii', 231),\n",
              " ('minor', 231),\n",
              " ('network', 231),\n",
              " ('future', 231),\n",
              " ('regular', 230),\n",
              " ('pacific', 230),\n",
              " ('ordered', 230),\n",
              " ('spent', 230),\n",
              " ('changes', 230),\n",
              " ('moving', 230),\n",
              " ('might', 230),\n",
              " ('arrived', 230),\n",
              " ('includes', 230),\n",
              " ('wheeler', 230),\n",
              " ('remaining', 229),\n",
              " ('larger', 229),\n",
              " ('education', 229),\n",
              " ('usually', 229),\n",
              " ('canadian', 229),\n",
              " ('cathedral', 229),\n",
              " ('hand', 228),\n",
              " ('department', 228),\n",
              " ('hit', 228),\n",
              " ('birds', 228),\n",
              " ('required', 227),\n",
              " ('uk', 227),\n",
              " ('san', 227),\n",
              " ('lake', 227),\n",
              " ('latter', 226),\n",
              " ('decision', 226),\n",
              " ('plot', 225),\n",
              " ('response', 225),\n",
              " ('africa', 225),\n",
              " ('space', 224),\n",
              " ('musical', 224),\n",
              " ('round', 224),\n",
              " ('wide', 224),\n",
              " ('voice', 224),\n",
              " ('2000', 224),\n",
              " ('debut', 223),\n",
              " ('crew', 223),\n",
              " ('appear', 223),\n",
              " ('related', 222),\n",
              " ('mounted', 222),\n",
              " ('groups', 222),\n",
              " ('territory', 221),\n",
              " ('view', 221),\n",
              " ('centre', 221),\n",
              " ('rachel', 221),\n",
              " ('jin', 221),\n",
              " ('positive', 220),\n",
              " ('feature', 220),\n",
              " ('science', 220),\n",
              " ('nature', 220),\n",
              " ('billboard', 220),\n",
              " ('films', 220),\n",
              " ('ended', 220),\n",
              " ('saint', 220),\n",
              " ('00', 220),\n",
              " ('finally', 219),\n",
              " ('score', 219),\n",
              " ('squadron', 219),\n",
              " ('supported', 219),\n",
              " ('flight', 219),\n",
              " ('culture', 219),\n",
              " ('money', 218),\n",
              " ('becoming', 218),\n",
              " ('pressure', 218),\n",
              " ('always', 217),\n",
              " ('smaller', 217),\n",
              " ('books', 217),\n",
              " ('provide', 217),\n",
              " ('charles', 217),\n",
              " ('private', 216),\n",
              " ('shown', 216),\n",
              " ('1995', 216),\n",
              " ('anti', 216),\n",
              " ('discovered', 216),\n",
              " ('shortly', 215),\n",
              " ('particular', 215),\n",
              " ('board', 215),\n",
              " ('minutes', 215),\n",
              " ('person', 214),\n",
              " ('experience', 214),\n",
              " ('nations', 214),\n",
              " ('peter', 214),\n",
              " ('trade', 214),\n",
              " ('defeated', 214),\n",
              " ('difficult', 214),\n",
              " ('mass', 214),\n",
              " ('temple', 214),\n",
              " ('staff', 213),\n",
              " ('big', 213),\n",
              " ('surface', 213),\n",
              " ('subsequently', 213),\n",
              " ('japan', 212),\n",
              " ('upper', 212),\n",
              " ('press', 212),\n",
              " ('lack', 212),\n",
              " ('living', 212),\n",
              " ('effects', 212),\n",
              " ('zealand', 212),\n",
              " ('word', 211),\n",
              " ('professional', 211),\n",
              " ('material', 210),\n",
              " ('fact', 210),\n",
              " ('greater', 210),\n",
              " ('tv', 210),\n",
              " ('problems', 209),\n",
              " ('self', 209),\n",
              " ('room', 209),\n",
              " ('teams', 209),\n",
              " ('60', 209),\n",
              " ('numbers', 208),\n",
              " ('idea', 208),\n",
              " ('intended', 208),\n",
              " ('news', 208),\n",
              " ('collection', 208),\n",
              " ('largely', 208),\n",
              " ('bridge', 208),\n",
              " ...]"
            ]
          },
          "metadata": {},
          "execution_count": 22
        }
      ]
    },
    {
      "cell_type": "code",
      "source": [
        "# The least common\n",
        "freqs.most_common()[-6000:]"
      ],
      "metadata": {
        "colab": {
          "base_uri": "https://localhost:8080/"
        },
        "id": "Om47jmWmp9sF",
        "outputId": "6f3d4f7d-7f3f-454d-8e0b-487702d7a9bf"
      },
      "execution_count": null,
      "outputs": [
        {
          "output_type": "execute_result",
          "data": {
            "text/plain": [
              "[('refreshing', 4),\n",
              " ('aback', 4),\n",
              " ('uproar', 4),\n",
              " ('novi', 4),\n",
              " ('mshd', 4),\n",
              " ('881', 4),\n",
              " ('ibrahima', 4),\n",
              " ('1726', 4),\n",
              " ('mandé', 4),\n",
              " ('yalunka', 4),\n",
              " ('bundu', 4),\n",
              " ('almami', 4),\n",
              " ('donnel', 4),\n",
              " ('cctv', 4),\n",
              " ('fiancée', 4),\n",
              " ('fibres', 4),\n",
              " ('calmly', 4),\n",
              " ('gaviria', 4),\n",
              " ('andes', 4),\n",
              " ('stylized', 4),\n",
              " ('40th', 4),\n",
              " ('zurich', 4),\n",
              " ('rafa', 4),\n",
              " ('jonas', 4),\n",
              " ('mcenroe', 4),\n",
              " ('tiebreaker', 4),\n",
              " ('borg', 4),\n",
              " ('racquets', 4),\n",
              " ('battled', 4),\n",
              " ('tiebreak', 4),\n",
              " ('surpass', 4),\n",
              " ('prolonging', 4),\n",
              " ('baseline', 4),\n",
              " ('forehand', 4),\n",
              " ('dogfights', 4),\n",
              " ('simulators', 4),\n",
              " ('graphical', 4),\n",
              " ('hantzopoulos', 4),\n",
              " ('gauges', 4),\n",
              " ('itcz', 4),\n",
              " ('accelerating', 4),\n",
              " ('mudskippers', 4),\n",
              " ('tasting', 4),\n",
              " ('bbdo', 4),\n",
              " ('squirrels', 4),\n",
              " ('mustang', 4),\n",
              " ('overlapped', 4),\n",
              " ('stella', 4),\n",
              " ('mulhall', 4),\n",
              " ('windass', 4),\n",
              " ('oblivion', 4),\n",
              " ('californicus', 4),\n",
              " ('diets', 4),\n",
              " ('rabbits', 4),\n",
              " ('mites', 4),\n",
              " ('hares', 4),\n",
              " ('sonora', 4),\n",
              " ('wheatgrass', 4),\n",
              " ('coyote', 4),\n",
              " ('lupus', 4),\n",
              " ('tularemia', 4),\n",
              " ('carcasses', 4),\n",
              " ('ismailia', 4),\n",
              " ('kress', 4),\n",
              " ('railhead', 4),\n",
              " ('ferdan', 4),\n",
              " ('125th', 4),\n",
              " ('zealander', 4),\n",
              " ('redoubt', 4),\n",
              " ('hamisah', 4),\n",
              " ('greedy', 4),\n",
              " ('rogan', 4),\n",
              " ('willingly', 4),\n",
              " ('alisandros', 4),\n",
              " ('lana', 4),\n",
              " ('acknowledgment', 4),\n",
              " ('boletinellus', 4),\n",
              " ('gyroporus', 4),\n",
              " ('phlebopus', 4),\n",
              " ('calostoma', 4),\n",
              " ('diplocystis', 4),\n",
              " ('isotopic', 4),\n",
              " ('competitively', 4),\n",
              " ('abeam', 4),\n",
              " ('blitt', 4),\n",
              " ('meg', 4),\n",
              " ('agaricales', 4),\n",
              " ('donoghue', 4),\n",
              " ('penannular', 4),\n",
              " ('brooch', 4),\n",
              " ('whalebone', 4),\n",
              " ('miniatures', 4),\n",
              " ('quatrain', 4),\n",
              " ('ingenuity', 4),\n",
              " ('goodall', 4),\n",
              " ('carmen', 4),\n",
              " ('pagliacci', 4),\n",
              " ('soloists', 4),\n",
              " ('figaro', 4),\n",
              " ('instituted', 4),\n",
              " ('springboks', 4),\n",
              " ('gibbs', 4),\n",
              " ('spirituals', 4),\n",
              " ('gestures', 4),\n",
              " ('deficit', 4),\n",
              " ('seddon', 4),\n",
              " ('1619', 4),\n",
              " ('mikołaj', 4),\n",
              " ('widacki', 4),\n",
              " ('1641', 4),\n",
              " ('regimentarz', 4),\n",
              " ('conclusive', 4),\n",
              " ('wansel', 4),\n",
              " ('popcrush', 4),\n",
              " ('kellman', 4),\n",
              " ('060', 4),\n",
              " ('usable', 4),\n",
              " ('autobiographies', 4),\n",
              " ('bantam', 4),\n",
              " ('fundamentalists', 4),\n",
              " ('unregulated', 4),\n",
              " ('antidote', 4),\n",
              " ('reflective', 4),\n",
              " ('amphorae', 4),\n",
              " ('yangjiang', 4),\n",
              " ('guangxi', 4),\n",
              " ('¥', 4),\n",
              " ('cny', 4),\n",
              " ('chung', 4),\n",
              " ('lifeguard', 4),\n",
              " ('cphc', 4),\n",
              " ('stocked', 4),\n",
              " ('danko', 4),\n",
              " ('reels', 4),\n",
              " ('pacifier', 4),\n",
              " ('cartwright', 4),\n",
              " ('hallmark', 4),\n",
              " ('itchy', 4),\n",
              " ('scratchy', 4),\n",
              " ('rescind', 4),\n",
              " ('rita', 4),\n",
              " ('toby', 4),\n",
              " ('drinks', 4),\n",
              " ('soundstage', 4),\n",
              " ('fantasia', 4),\n",
              " ('infants', 4),\n",
              " ('assurance', 4),\n",
              " ('furlongs', 4),\n",
              " ('filly', 4),\n",
              " ('northcentral', 4),\n",
              " ('montoursville', 4),\n",
              " ('sludge', 4),\n",
              " ('tanning', 4),\n",
              " ('lumbering', 4),\n",
              " ('705', 4),\n",
              " ('bede', 4),\n",
              " ('hexafluoride', 4),\n",
              " ('oxidizing', 4),\n",
              " ('difluoride', 4),\n",
              " ('asymptotic', 4),\n",
              " ('129i', 4),\n",
              " ('133xe', 4),\n",
              " ('polarization', 4),\n",
              " ('emanating', 4),\n",
              " ('meteorites', 4),\n",
              " ('perxenate', 4),\n",
              " ('computed', 4),\n",
              " ('argentines', 4),\n",
              " ('kirchner', 4),\n",
              " ('rivaled', 4),\n",
              " ('antónio', 4),\n",
              " ('inequality', 4),\n",
              " ('lashes', 4),\n",
              " ('cabildo', 4),\n",
              " ('¡', 4),\n",
              " ('agitation', 4),\n",
              " ('oversized', 4),\n",
              " ('fascism', 4),\n",
              " ('maleev', 4),\n",
              " ('ackerson', 4),\n",
              " ('bulletin', 4),\n",
              " ('helgenberger', 4),\n",
              " ('seductress', 4),\n",
              " ('procedural', 4),\n",
              " ('arecibo', 4),\n",
              " ('lennox', 4),\n",
              " ('mutant', 4),\n",
              " ('weed', 4),\n",
              " ('aspirations', 4),\n",
              " ('visualize', 4),\n",
              " ('1225', 4),\n",
              " ('1228', 4),\n",
              " ('1231', 4),\n",
              " ('minstrel', 4),\n",
              " ('reims', 4),\n",
              " ('1205', 4),\n",
              " ('ayyubid', 4),\n",
              " ('pillaged', 4),\n",
              " ('1214', 4),\n",
              " ('negotiation', 4),\n",
              " ('whitewater', 4),\n",
              " ('ecoregion', 4),\n",
              " ('snowmelt', 4),\n",
              " ('cottonwood', 4),\n",
              " ('shrubby', 4),\n",
              " ('grizzly', 4),\n",
              " ('ranch', 4),\n",
              " ('horseshoe', 4),\n",
              " ('prakash', 4),\n",
              " ('catapulted', 4),\n",
              " ('takia', 4),\n",
              " ('pretended', 4),\n",
              " ('mumaith', 4),\n",
              " ('obscene', 4),\n",
              " ('nizam', 4),\n",
              " ('consolidating', 4),\n",
              " ('ferraris', 4),\n",
              " ('chassis', 4),\n",
              " ('jenson', 4),\n",
              " ('glock', 4),\n",
              " ('piquet', 4),\n",
              " ('sutil', 4),\n",
              " ('frontrunners', 4),\n",
              " ('impeded', 4),\n",
              " ('bronzes', 4),\n",
              " ('mules', 4),\n",
              " ('nots', 4),\n",
              " ('rudder', 4),\n",
              " ('unproven', 4),\n",
              " ('seeping', 4),\n",
              " ('megawatts', 4),\n",
              " ('twh', 4),\n",
              " ('denard', 4),\n",
              " ('comoros', 4),\n",
              " ('enlisting', 4),\n",
              " ('cadres', 4),\n",
              " ('asthma', 4),\n",
              " ('ps3', 4),\n",
              " ('stingaree', 4),\n",
              " ('cracksman', 4),\n",
              " ('satisfaction', 4),\n",
              " ('virtuosity', 4),\n",
              " ('eton', 4),\n",
              " ('adamant', 4),\n",
              " ('tryon', 4),\n",
              " ('distributors', 4),\n",
              " ('aloof', 4),\n",
              " ('sandals', 4),\n",
              " ('mort', 4),\n",
              " ('nijmegen', 4),\n",
              " ('jv', 4),\n",
              " ('étienne', 4),\n",
              " ('absolutism', 4),\n",
              " ('mirroring', 4),\n",
              " ('cropped', 4),\n",
              " ('ictus', 4),\n",
              " ('unpredictability', 4),\n",
              " ('spisevognselskap', 4),\n",
              " ('dovre', 4),\n",
              " ('landlady', 4),\n",
              " ('grinder', 4),\n",
              " ('hinds', 4),\n",
              " ('servilia', 4),\n",
              " ('octavia', 4),\n",
              " ('stoic', 4),\n",
              " ('tumultuous', 4),\n",
              " ('lurid', 4),\n",
              " ('nobodies', 4),\n",
              " ('tetsuya', 4),\n",
              " ('modify', 4),\n",
              " ('ansem', 4),\n",
              " ('xemnas', 4),\n",
              " ('amano', 4),\n",
              " ('zx', 4),\n",
              " ('padres', 4),\n",
              " ('unicameral', 4),\n",
              " ('tiered', 4),\n",
              " ('sud', 4),\n",
              " ('josipović', 4),\n",
              " ('kenyan', 4),\n",
              " ('commune', 4),\n",
              " ('scanlan', 4),\n",
              " ('testify', 4),\n",
              " ('batson', 4),\n",
              " ('fraternal', 4),\n",
              " ('undrafted', 4),\n",
              " ('devils', 4),\n",
              " ('crutches', 4),\n",
              " ('vie', 4),\n",
              " ('scoutz', 4),\n",
              " ('syrup', 4),\n",
              " ('milhouse', 4),\n",
              " ('meanders', 4),\n",
              " ('irv', 4),\n",
              " ('cisski', 4),\n",
              " ('wuthering', 4),\n",
              " ('auditorium', 4),\n",
              " ('bfi', 4),\n",
              " ('kean', 4),\n",
              " ('lejeune', 4),\n",
              " ('korda', 4),\n",
              " ('eclipsed', 4),\n",
              " ('searing', 4),\n",
              " ('bragg', 4),\n",
              " ('darlington', 4),\n",
              " ('chandos', 4),\n",
              " ('1706', 4),\n",
              " ('assertiveness', 4),\n",
              " ('entice', 4),\n",
              " ('rudders', 4),\n",
              " ('volts', 4),\n",
              " ('467', 4),\n",
              " ('jammed', 4),\n",
              " ('tripod', 4),\n",
              " ('crippled', 4),\n",
              " ('casablanca', 4),\n",
              " ('puncture', 4),\n",
              " ('gy', 4),\n",
              " ('gastrointestinal', 4),\n",
              " ('lund', 4),\n",
              " ('fluids', 4),\n",
              " ('swamped', 4),\n",
              " ('fremantle', 4),\n",
              " ('entrained', 4),\n",
              " ('lemnos', 4),\n",
              " ('webisode', 4),\n",
              " ('kern', 4),\n",
              " ('blythe', 4),\n",
              " ('hauser', 4),\n",
              " ('cornell', 4),\n",
              " ('infective', 4),\n",
              " ('godsmack', 4),\n",
              " ('turnovers', 4),\n",
              " ('shrank', 4),\n",
              " ('vishnuvardhana', 4),\n",
              " ('dvaita', 4),\n",
              " ('ashtaka', 4),\n",
              " ('janna', 4),\n",
              " ('1330', 4),\n",
              " ('ramanujacharya', 4),\n",
              " ('bards', 4),\n",
              " ('padmarasa', 4),\n",
              " ('1189', 4),\n",
              " ('charitra', 4),\n",
              " ('infatuation', 4),\n",
              " ('resurfacing', 4),\n",
              " ('asceticism', 4),\n",
              " ('adi', 4),\n",
              " ('nirnaya', 4),\n",
              " ('colima', 4),\n",
              " ('cotrona', 4),\n",
              " ('palicki', 4),\n",
              " ('hopping', 4),\n",
              " ('redone', 4),\n",
              " ('ungulates', 4),\n",
              " ('onça', 4),\n",
              " ('cheetah', 4),\n",
              " ('couguar', 4),\n",
              " ('sprints', 4),\n",
              " ('seals', 4),\n",
              " ('shrinks', 4),\n",
              " ('kittens', 4),\n",
              " ('winnebago', 4),\n",
              " ('paradoxical', 4),\n",
              " ('przewalski', 4),\n",
              " ('krayot', 4),\n",
              " ('samak', 4),\n",
              " ('sycaminon', 4),\n",
              " ('kishon', 4),\n",
              " ('retook', 4),\n",
              " ('maris', 4),\n",
              " ('tiberias', 4),\n",
              " ('interred', 4),\n",
              " ('redeployed', 4),\n",
              " ('ashdod', 4),\n",
              " ('merkaz', 4),\n",
              " ('9n', 4),\n",
              " ('cerezo', 4),\n",
              " ('expiration', 4),\n",
              " ('tattoo', 4),\n",
              " ('gators', 4),\n",
              " ('moba', 4),\n",
              " ('collects', 4),\n",
              " ('radiant', 4),\n",
              " ('feak', 4),\n",
              " ('gamescom', 4),\n",
              " ('contributor', 4),\n",
              " ('gametrailers', 4),\n",
              " ('swarm', 4),\n",
              " ('toye', 4),\n",
              " ('toads', 4),\n",
              " ('showrunner', 4),\n",
              " ('immensely', 4),\n",
              " ('brogan', 4),\n",
              " ('swallows', 4),\n",
              " ('nonviolent', 4),\n",
              " ('gawker', 4),\n",
              " ('hackers', 4),\n",
              " ('prolexic', 4),\n",
              " ('pouw', 4),\n",
              " ('melvin', 4),\n",
              " ('aggravated', 4),\n",
              " ('coerced', 4),\n",
              " ('harney', 4),\n",
              " ('boulevards', 4),\n",
              " ('mormon', 4),\n",
              " ('680', 4),\n",
              " ('serene', 4),\n",
              " ('buena', 4),\n",
              " ('vista', 4),\n",
              " ('malayan', 4),\n",
              " ('seclusion', 4),\n",
              " ('autoharp', 4),\n",
              " ('toes', 4),\n",
              " ('1k', 4),\n",
              " ('tancherês', 4),\n",
              " ('ptahhotep', 4),\n",
              " ('courtiers', 4),\n",
              " ('hellenized', 4),\n",
              " ('nyuserre', 4),\n",
              " ('meresankh', 4),\n",
              " ('neserkauhor', 4),\n",
              " ('senedjemib', 4),\n",
              " ('sed', 4),\n",
              " ('inti', 4),\n",
              " ('byblos', 4),\n",
              " ('merenre', 4),\n",
              " ('pepi', 4),\n",
              " ('silverside', 4),\n",
              " ('forester', 4),\n",
              " ('tåsen', 4),\n",
              " ('korsvoll', 4),\n",
              " ('1264', 4),\n",
              " ('secwepemc', 4),\n",
              " ('nehru', 4),\n",
              " ('hoisting', 4),\n",
              " ('jana', 4),\n",
              " ('premonition', 4),\n",
              " ('belize', 4),\n",
              " ('martinique', 4),\n",
              " ('javier', 4),\n",
              " ('lattimore', 4),\n",
              " ('453', 4),\n",
              " ('chesham', 4),\n",
              " ('churchmen', 4),\n",
              " ('propellers', 4),\n",
              " ('tjoet', 4),\n",
              " ('nja', 4),\n",
              " ('pasir', 4),\n",
              " ('sesuatu', 4),\n",
              " ('indah', 4),\n",
              " ('kerikil', 4),\n",
              " ('bandung', 4),\n",
              " ('pavers', 4),\n",
              " ('diabolus', 4),\n",
              " ('mats', 4),\n",
              " ('karagias', 4),\n",
              " ('wrestle', 4),\n",
              " ('wildside', 4),\n",
              " ('pwi', 4),\n",
              " ('wellness', 4),\n",
              " ('wizard', 4),\n",
              " ('neckbreaker', 4),\n",
              " ('groton', 4),\n",
              " ('separatists', 4),\n",
              " ('twisse', 4),\n",
              " ('propositions', 4),\n",
              " ('creeds', 4),\n",
              " ('parishes', 4),\n",
              " ('lochmarne', 4),\n",
              " ('thew', 4),\n",
              " ('kickstarter', 4),\n",
              " ('overflow', 4),\n",
              " ('wippleman', 4),\n",
              " ('loser', 4),\n",
              " ('fatu', 4),\n",
              " ('buyrate', 4),\n",
              " ('theorems', 4),\n",
              " ('theorem', 4),\n",
              " ('schank', 4),\n",
              " ('dependency', 4),\n",
              " ('papert', 4),\n",
              " ('micro', 4),\n",
              " ('sussman', 4),\n",
              " ('cmu', 4),\n",
              " ('mips', 4),\n",
              " ('predicts', 4),\n",
              " ('oc', 4),\n",
              " ('appellation', 4),\n",
              " ('syrah', 4),\n",
              " ('chardonnay', 4),\n",
              " ('vins', 4),\n",
              " ('napier', 4),\n",
              " ('aravind', 4),\n",
              " ('chakraborty', 4),\n",
              " ('gharana', 4),\n",
              " ('ngô', 4),\n",
              " ('tấn', 4),\n",
              " ('plaf', 4),\n",
              " ('quảng', 4),\n",
              " ('tomasevich', 4),\n",
              " ('cyrillic', 4),\n",
              " ('ip', 4),\n",
              " ('delineated', 4),\n",
              " ('hallucinogenic', 4),\n",
              " ('boiling', 4),\n",
              " ('detoxified', 4),\n",
              " ('lithuanians', 4),\n",
              " ('shamans', 4),\n",
              " ('cedars', 4),\n",
              " ('denounce', 4),\n",
              " ('1351', 4),\n",
              " ('1656', 4),\n",
              " ('newgate', 4),\n",
              " ('arundel', 4),\n",
              " ('menagerie', 4),\n",
              " ('ichiro', 4),\n",
              " ('swings', 4),\n",
              " ('milano', 4),\n",
              " ('joss', 4),\n",
              " ('solitarius', 4),\n",
              " ('subfossils', 4),\n",
              " ('pieter', 4),\n",
              " ('holsteyn', 4),\n",
              " ('leguat', 4),\n",
              " ('savery', 4),\n",
              " ('sieur', 4),\n",
              " ('feuilley', 4),\n",
              " ('cao', 4),\n",
              " ('karnow', 4),\n",
              " ('quinta', 4),\n",
              " ('fronted', 4),\n",
              " ('peregrine', 4),\n",
              " ('dissipate', 4),\n",
              " ('kenna', 4),\n",
              " ('298', 4),\n",
              " ('522', 4),\n",
              " ('odile', 4),\n",
              " ('anita', 4),\n",
              " ('hurdling', 4),\n",
              " ('decathlon', 4),\n",
              " ('wenlock', 4),\n",
              " ('organisers', 4),\n",
              " ('mayson', 4),\n",
              " ('heidelberg', 4),\n",
              " ('instalments', 4),\n",
              " ('acton', 4),\n",
              " ('nown', 4),\n",
              " ('dharma', 4),\n",
              " ('ethnically', 4),\n",
              " ('bleiler', 4),\n",
              " ('wandered', 4),\n",
              " ('embankments', 4),\n",
              " ('loaf', 4),\n",
              " ('glued', 4),\n",
              " ('stegosaurians', 4),\n",
              " ('pareiasaur', 4),\n",
              " ('para', 4),\n",
              " ('ornithopods', 4),\n",
              " ('nares', 4),\n",
              " ('premaxillary', 4),\n",
              " ('kentrosaurus', 4),\n",
              " ('huayangosaurus', 4),\n",
              " ('353', 4),\n",
              " ('kamara', 4),\n",
              " ('overclocked', 4),\n",
              " ('screwattack', 4),\n",
              " ('gravestone', 4),\n",
              " ('pembina', 4),\n",
              " ('hidatsa', 4),\n",
              " ('hirosaki', 4),\n",
              " ('conde', 4),\n",
              " ('koma', 4),\n",
              " ('judoka', 4),\n",
              " ('yamashita', 4),\n",
              " ('taka', 4),\n",
              " ('tokugoro', 4),\n",
              " ('laku', 4),\n",
              " ('shimitsu', 4),\n",
              " ('gastão', 4),\n",
              " ('tofu', 4),\n",
              " ('tama', 4),\n",
              " ('shingen', 4),\n",
              " ('polow', 4),\n",
              " ('hologram', 4),\n",
              " ('sternum', 4),\n",
              " ('rimu', 4),\n",
              " ('beaks', 4),\n",
              " ('rakiura', 4),\n",
              " ('skins', 4),\n",
              " ('browsing', 4),\n",
              " ('andi', 4),\n",
              " ('hut', 4),\n",
              " ('fredericksburg', 4),\n",
              " ('wetmore', 4),\n",
              " ('romulans', 4),\n",
              " ('indecent', 4),\n",
              " ('guam', 4),\n",
              " ('orderings', 4),\n",
              " ('np', 4),\n",
              " ('subgraph', 4),\n",
              " ('endpoint', 4),\n",
              " ('kōkaku', 4),\n",
              " ('cybernetic', 4),\n",
              " ('2501', 4),\n",
              " ('yamato', 4),\n",
              " ('undecided', 4),\n",
              " ('sociologists', 4),\n",
              " ('verbally', 4),\n",
              " ('balch', 4),\n",
              " ('abduction', 4),\n",
              " ('kringen', 4),\n",
              " ('supervisory', 4),\n",
              " ('longues', 4),\n",
              " ('avre', 4),\n",
              " ('harbours', 4),\n",
              " ('northumbrian', 4),\n",
              " ('231st', 4),\n",
              " ('rasc', 4),\n",
              " ('orne', 4),\n",
              " ('crépon', 4),\n",
              " ('occupants', 4),\n",
              " ('varpas', 4),\n",
              " ('findspot', 4),\n",
              " ('shinnok', 4),\n",
              " ('quan', 4),\n",
              " ('yorke', 4),\n",
              " ('horner', 4),\n",
              " ('q3', 4),\n",
              " ('magnussen', 4),\n",
              " ('stewards', 4),\n",
              " ('ludacris', 4),\n",
              " ('shawnna', 4),\n",
              " ('therepio', 4),\n",
              " ('alla', 4),\n",
              " ('qur', 4),\n",
              " ('ā', 4),\n",
              " ('rainforests', 4),\n",
              " ('bites', 4),\n",
              " ('ld50', 4),\n",
              " ('fowley', 4),\n",
              " ('ngebe', 4),\n",
              " ('ryūjinmura', 4),\n",
              " ('shigure', 4),\n",
              " ('tenets', 4),\n",
              " ('locusts', 4),\n",
              " ('vineae', 4),\n",
              " ('pathogens', 4),\n",
              " ('scapterisci', 4),\n",
              " ('pastures', 4),\n",
              " ('blazed', 4),\n",
              " ('853d', 4),\n",
              " ('souper', 4),\n",
              " ('robespierre', 4),\n",
              " ('caizhou', 4),\n",
              " ('1140', 4),\n",
              " ('yingtianfu', 4),\n",
              " ('xiangyang', 4),\n",
              " ('shizong', 4),\n",
              " ('火礮', 4),\n",
              " ('hmc', 4),\n",
              " ('t30s', 4),\n",
              " ('nod', 4),\n",
              " ('tittenhurst', 4),\n",
              " ('triatomine', 4),\n",
              " ('trypomastigotes', 4),\n",
              " ('triatoma', 4),\n",
              " ('bahía', 4),\n",
              " ('undulating', 4),\n",
              " ('nurseries', 4),\n",
              " ('kiplin', 4),\n",
              " ('seminoles', 4),\n",
              " ('sawgrass', 4),\n",
              " ('glades', 4),\n",
              " ('biscayne', 4),\n",
              " ('stoneman', 4),\n",
              " ('eaa', 4),\n",
              " ('dcpa', 4),\n",
              " ('honeymooners', 4),\n",
              " ('hyman', 4),\n",
              " ('upt', 4),\n",
              " ('cordon', 4),\n",
              " ('osmond', 4),\n",
              " ('aweary', 4),\n",
              " ('fatima', 4),\n",
              " ('a5', 4),\n",
              " ('manorina', 4),\n",
              " ('leachi', 4),\n",
              " ('ironbark', 4),\n",
              " ('bathe', 4),\n",
              " ('coteries', 4),\n",
              " ('eater', 4),\n",
              " ('merops', 4),\n",
              " ('exclusivity', 4),\n",
              " ('karyopherins', 4),\n",
              " ('heterochromatin', 4),\n",
              " ('paraspeckles', 4),\n",
              " ('coilin', 4),\n",
              " ('interchromatin', 4),\n",
              " ('rangtp', 4),\n",
              " ('disassembly', 4),\n",
              " ('apoptosis', 4),\n",
              " ('hydrated', 4),\n",
              " ('·', 4),\n",
              " ('cerium', 4),\n",
              " ('sublimation', 4),\n",
              " ('keck', 4),\n",
              " ('declination', 4),\n",
              " ('peninsulas', 4),\n",
              " ('strathaird', 4),\n",
              " ('meic', 4),\n",
              " ('oxymoron', 4),\n",
              " ('oahe', 4),\n",
              " ('km3', 4),\n",
              " ('gavins', 4),\n",
              " ('meriwether', 4),\n",
              " ('tulloch', 4),\n",
              " ('bland', 4),\n",
              " ('conduit', 4),\n",
              " ('thrive', 4),\n",
              " ('idina', 4),\n",
              " ('mckinley', 4),\n",
              " ('kubicek', 4),\n",
              " ('clichéd', 4),\n",
              " ('respers', 4),\n",
              " ('futterman', 4),\n",
              " ('larroquette', 4),\n",
              " ('ramsbury', 4),\n",
              " ('hagiography', 4),\n",
              " ('gallimard', 4),\n",
              " ('stis', 4),\n",
              " ('polyisoprene', 4),\n",
              " ('std', 4),\n",
              " ('allergic', 4),\n",
              " ('nonoxynol', 4),\n",
              " ('glans', 4),\n",
              " ('pugliese', 4),\n",
              " ('rossiya', 4),\n",
              " ('molotovsk', 4),\n",
              " ('sardi', 4),\n",
              " ('giring', 4),\n",
              " ('walidah', 4),\n",
              " ('barremian', 4),\n",
              " ('camptosaurus', 4),\n",
              " ('dollo', 4),\n",
              " ('iguanodonts', 4),\n",
              " ('fours', 4),\n",
              " ('cassowary', 4),\n",
              " ('joystick', 4),\n",
              " ('muybridge', 4),\n",
              " ('scars', 4),\n",
              " ('um', 4),\n",
              " ('teddy', 4),\n",
              " ('jowell', 4),\n",
              " ('berm', 4),\n",
              " ('olorotitan', 4),\n",
              " ('integument', 4),\n",
              " ('kritosaurus', 4),\n",
              " ('premaxillaries', 4),\n",
              " ('prefrontals', 4),\n",
              " ('trackage', 4),\n",
              " ('vāda', 4),\n",
              " ('syāt', 4),\n",
              " ('samantabhadra', 4),\n",
              " ('asti', 4),\n",
              " ('nāsti', 4),\n",
              " ('avaktavyaḥ', 4),\n",
              " ('indescribable', 4),\n",
              " ('dravya', 4),\n",
              " ('hinduism', 4),\n",
              " ('oosterbeek', 4),\n",
              " ('naruhodō', 4),\n",
              " ('layton', 4),\n",
              " ('vietnamization', 4),\n",
              " ('cham', 4),\n",
              " ('ptychoverpa', 4),\n",
              " ('kolkata', 4),\n",
              " ('kanpur', 4),\n",
              " ('tulsidas', 4),\n",
              " ('kabir', 4),\n",
              " ('maratha', 4),\n",
              " ('varuna', 4),\n",
              " ('assi', 4),\n",
              " ('mosques', 4),\n",
              " ('agglomeration', 4),\n",
              " ('ayurvedic', 4),\n",
              " ('jantar', 4),\n",
              " ('mantar', 4),\n",
              " ('maharaj', 4),\n",
              " ('sunspot', 4),\n",
              " ('anketell', 4),\n",
              " ('northam', 4),\n",
              " ('rabaul', 4),\n",
              " ('sumatra', 4),\n",
              " ('mashtots', 4),\n",
              " ('ჯ', 4),\n",
              " ('ი', 4),\n",
              " ('ო', 4),\n",
              " ('ხ', 4),\n",
              " ('ossetian', 4),\n",
              " ('ვ', 4),\n",
              " ('კ', 4),\n",
              " ('tbilisi', 4),\n",
              " ('yamu', 4),\n",
              " ('bhandara', 4),\n",
              " ('151eu', 4),\n",
              " ('154eu', 4),\n",
              " ('gadolinium', 4),\n",
              " ('bulbs', 4),\n",
              " ('lerew', 4),\n",
              " ('usaaf', 4),\n",
              " ('capensis', 4),\n",
              " ('haga', 4),\n",
              " ('wag', 4),\n",
              " ('segmental', 4),\n",
              " ('trapdoor', 4),\n",
              " ('brackenburn', 4),\n",
              " ('cheevers', 4),\n",
              " ('fetishist', 4),\n",
              " ('necrophiliac', 4),\n",
              " ('supercar', 4),\n",
              " ('dyneley', 4),\n",
              " ('piloted', 4),\n",
              " ('kyrano', 4),\n",
              " ('bignell', 4),\n",
              " ('cull', 4),\n",
              " ('carbuncle', 4),\n",
              " ('boobs', 4),\n",
              " ('broadoak', 4),\n",
              " ('bogotá', 4),\n",
              " ('vergara', 4),\n",
              " ('oxbow', 4),\n",
              " ('carnation', 4),\n",
              " ('niassa', 4),\n",
              " ('lourenço', 4),\n",
              " ('machel', 4),\n",
              " ('tete', 4),\n",
              " ('landmines', 4),\n",
              " ('pide', 4),\n",
              " ('kaúlza', 4),\n",
              " ('flechas', 4),\n",
              " ('wiriyamu', 4),\n",
              " ('threepwood', 4),\n",
              " ('eshmunazar', 4),\n",
              " ('bodashtart', 4),\n",
              " ('nymphaeum', 4),\n",
              " ('düsseldorf', 4),\n",
              " ('kaspar', 4),\n",
              " ('bassermann', 4),\n",
              " ('filucius', 4),\n",
              " ('kinetics', 4),\n",
              " ('steffie', 4),\n",
              " ('pulsar', 4),\n",
              " ('galactic', 4),\n",
              " ('monogram', 4),\n",
              " ('firs', 4),\n",
              " ('pianists', 4),\n",
              " ('sorabji', 4),\n",
              " ('napoléon', 4),\n",
              " ('solfège', 4),\n",
              " ('franck', 4),\n",
              " ('marmontel', 4),\n",
              " ('préludes', 4),\n",
              " ('hiller', 4),\n",
              " ('tous', 4),\n",
              " ('érard', 4),\n",
              " ('sturnus', 4),\n",
              " ('sturnidae', 4),\n",
              " ('zetlandicus', 4),\n",
              " ('flea', 4),\n",
              " ('戦場のヴァルキュリア3', 3),\n",
              " ('europan', 3),\n",
              " ('honjou', 3),\n",
              " ('hitoshi', 3),\n",
              " ('ozawa', 3),\n",
              " ('potentials', 3),\n",
              " ('innate', 3),\n",
              " ('impede', 3),\n",
              " ('imca', 3),\n",
              " ('stats', 3),\n",
              " ('falsely', 3),\n",
              " ('redeem', 3),\n",
              " ('riela', 3),\n",
              " ('422nd', 3),\n",
              " ('benefactor', 3),\n",
              " ('newfound', 3),\n",
              " ('individuality', 3),\n",
              " ('unpopularity', 3),\n",
              " ('tweaks', 3),\n",
              " ('geddes', 3),\n",
              " ('enjoying', 3),\n",
              " ('kotaku', 3),\n",
              " ('jockey', 3),\n",
              " ('harrel', 3),\n",
              " ('surrendering', 3),\n",
              " ('fabrication', 3),\n",
              " ('confederates', 3),\n",
              " ('smoothbore', 3),\n",
              " ('864', 3),\n",
              " ('364', 3),\n",
              " ('surmised', 3),\n",
              " ('mustered', 3),\n",
              " ('destitute', 3),\n",
              " ('undertakings', 3),\n",
              " ('conscripted', 3),\n",
              " ('236', 3),\n",
              " ('packages', 3),\n",
              " ('hoist', 3),\n",
              " ('unoccupied', 3),\n",
              " ('babcock', 3),\n",
              " ('girlhood', 3),\n",
              " ('artworks', 3),\n",
              " ('fundraisers', 3),\n",
              " ('waddon', 3),\n",
              " ('caldecott', 3),\n",
              " ('advertiser', 3),\n",
              " ('calthrop', 3),\n",
              " ('borrow', 3),\n",
              " ('whitby', 3),\n",
              " ('fondness', 3),\n",
              " ('rushie', 3),\n",
              " ('necklaces', 3),\n",
              " ('₤', 3),\n",
              " ('sos', 3),\n",
              " ('tamba', 3),\n",
              " ('abuses', 3),\n",
              " ('staffers', 3),\n",
              " ('neotrygon', 3),\n",
              " ('annotata', 3),\n",
              " ('bottomed', 3),\n",
              " ('patterned', 3),\n",
              " ('trawls', 3),\n",
              " ('gracile', 3),\n",
              " ('csiro', 3),\n",
              " ('sequenced', 3),\n",
              " ('sorted', 3),\n",
              " ('converge', 3),\n",
              " ('flap', 3),\n",
              " ('papillae', 3),\n",
              " ('stings', 3),\n",
              " ('denticles', 3),\n",
              " ('midline', 3),\n",
              " ('dweller', 3),\n",
              " ('hunts', 3),\n",
              " ('ovary', 3),\n",
              " ('newborns', 3),\n",
              " ('widths', 3),\n",
              " ('fished', 3),\n",
              " ('intensively', 3),\n",
              " ('oilers', 3),\n",
              " ('islanders', 3),\n",
              " ('canucks', 3),\n",
              " ('waive', 3),\n",
              " ('thanked', 3),\n",
              " ('reiterating', 3),\n",
              " ('froze', 3),\n",
              " ('000th', 3),\n",
              " ('1580', 3),\n",
              " ('della', 3),\n",
              " ('embellished', 3),\n",
              " ('gilii', 3),\n",
              " ('comets', 3),\n",
              " ('conforming', 3),\n",
              " ('meteorologist', 3),\n",
              " ('272', 3),\n",
              " ('bromide', 3),\n",
              " ('calming', 3),\n",
              " ('muhammed', 3),\n",
              " ('denouncing', 3),\n",
              " ('idealistic', 3),\n",
              " ('wyo', 3),\n",
              " ('courthouse', 3),\n",
              " ('tonnage', 3),\n",
              " ('762', 3),\n",
              " ('rounding', 3),\n",
              " ('006', 3),\n",
              " ('angled', 3),\n",
              " ('191', 3),\n",
              " ('508', 3),\n",
              " ('lever', 3),\n",
              " ('forsaken', 3),\n",
              " ('leaks', 3),\n",
              " ('josiah', 3),\n",
              " ('timely', 3),\n",
              " ('coaling', 3),\n",
              " ('tugboat', 3),\n",
              " ('cleanly', 3),\n",
              " ('dahlgren', 3),\n",
              " ('sylvain', 3),\n",
              " ('aspired', 3),\n",
              " ('jasmine', 3),\n",
              " ('ndtv', 3),\n",
              " ('rajeev', 3),\n",
              " ('masand', 3),\n",
              " ('gaurav', 3),\n",
              " ('tempting', 3),\n",
              " ('padukone', 3),\n",
              " ('pretentious', 3),\n",
              " ('jha', 3),\n",
              " ('emotive', 3),\n",
              " ...]"
            ]
          },
          "metadata": {},
          "execution_count": 23
        }
      ]
    },
    {
      "cell_type": "markdown",
      "source": [
        "## 🟠 Transform Data"
      ],
      "metadata": {
        "id": "idRexFij4wgN"
      }
    },
    {
      "cell_type": "markdown",
      "source": [
        "📌 Reshape the dataset into an `M x L` format, where `M = N x B`.\n",
        "\n",
        "`N` represents the number of batches, `B` is the batch size, and `L` is the length of a sample within each batch."
      ],
      "metadata": {
        "id": "ApisIcGeGSsJ"
      }
    },
    {
      "cell_type": "code",
      "source": [
        "def data_process(raw_text_iter, seq_len):\n",
        "    data = torch.cat([torch.LongTensor(vocab(tokenizer(line))) for line in raw_text_iter])\n",
        "\n",
        "    M = len(data) // seq_len\n",
        "    r = len(data) % seq_len\n",
        "    data = torch.cat((data, torch.LongTensor([0]))) if r == 0 else data\n",
        "\n",
        "    inputs = data[:M*seq_len]\n",
        "    inputs = inputs.reshape(-1, seq_len)\n",
        "\n",
        "    targets = data[1:M*seq_len+1]\n",
        "    targets = targets.reshape(-1, seq_len)\n",
        "\n",
        "    return inputs, targets"
      ],
      "metadata": {
        "id": "ocxM8YdsWH-1"
      },
      "execution_count": null,
      "outputs": []
    },
    {
      "cell_type": "code",
      "source": [
        "inputs, targets = data_process(train_iter, seq_len=30)\n",
        "inputs.shape, targets.shape"
      ],
      "metadata": {
        "colab": {
          "base_uri": "https://localhost:8080/"
        },
        "id": "kqMbhhzJyaRd",
        "outputId": "e1f36609-729a-4121-a5da-ebfffbb7601e"
      },
      "execution_count": null,
      "outputs": [
        {
          "output_type": "execute_result",
          "data": {
            "text/plain": [
              "(torch.Size([68333, 30]), torch.Size([68333, 30]))"
            ]
          },
          "metadata": {},
          "execution_count": 25
        }
      ]
    },
    {
      "cell_type": "code",
      "source": [
        "seq_len = 35\n",
        "\n",
        "X_train, y_train = data_process(train_iter, seq_len)\n",
        "X_valid, y_valid = data_process(valid_iter, seq_len)\n",
        "X_test, y_test = data_process(test_iter, seq_len)\n",
        "\n",
        "X_train.shape, y_train.shape, X_valid.shape, y_valid.shape, X_test.shape, y_test.shape"
      ],
      "metadata": {
        "colab": {
          "base_uri": "https://localhost:8080/"
        },
        "id": "-vAnxqzE2SGQ",
        "outputId": "6a48b45b-b3e9-4a8c-b66e-18d5a94f1f07"
      },
      "execution_count": null,
      "outputs": [
        {
          "output_type": "execute_result",
          "data": {
            "text/plain": [
              "(torch.Size([58571, 35]),\n",
              " torch.Size([58571, 35]),\n",
              " torch.Size([6126, 35]),\n",
              " torch.Size([6126, 35]),\n",
              " torch.Size([6910, 35]),\n",
              " torch.Size([6910, 35]))"
            ]
          },
          "metadata": {},
          "execution_count": 26
        }
      ]
    },
    {
      "cell_type": "markdown",
      "source": [
        "## 🟠 Custom Dataset"
      ],
      "metadata": {
        "id": "PgLgP04P4-aX"
      }
    },
    {
      "cell_type": "code",
      "source": [
        "class LanguageModelDataset(Dataset):\n",
        "\n",
        "  def __init__(self, inputs, targets):\n",
        "    self.inputs = inputs\n",
        "    self.targets = targets\n",
        "\n",
        "  def __len__(self):\n",
        "    return self.inputs.shape[0]\n",
        "\n",
        "  def __getitem__(self, idx):\n",
        "    return self.inputs[idx], self.targets[idx]"
      ],
      "metadata": {
        "id": "1cjpSkrtexap"
      },
      "execution_count": null,
      "outputs": []
    },
    {
      "cell_type": "code",
      "source": [
        "train_set = LanguageModelDataset(X_train, y_train)\n",
        "valid_set = LanguageModelDataset(X_valid, y_valid)\n",
        "test_set = LanguageModelDataset(X_test, y_test)"
      ],
      "metadata": {
        "id": "o0qUkL0CfQmr"
      },
      "execution_count": null,
      "outputs": []
    },
    {
      "cell_type": "code",
      "source": [
        "train_set[0]"
      ],
      "metadata": {
        "colab": {
          "base_uri": "https://localhost:8080/"
        },
        "id": "y30aznJcAIKC",
        "outputId": "6aef8d00-fca4-4998-fb48-5389754ad305"
      },
      "execution_count": null,
      "outputs": [
        {
          "output_type": "execute_result",
          "data": {
            "text/plain": [
              "(tensor([    9,  3849,  3869,   881,     9, 20000,    83,  3849,    88,     0,\n",
              "          3869,    21,   780, 28780,     2,  6182,     3,  3849,     4,     1,\n",
              "          5023,    88,    20,     2,  1837,  1018,     7,    14,  3849,  3869,\n",
              "           881,   629,   976,     2,    23]),\n",
              " tensor([ 3849,  3869,   881,     9, 20000,    83,  3849,    88,     0,  3869,\n",
              "            21,   780, 28780,     2,  6182,     3,  3849,     4,     1,  5023,\n",
              "            88,    20,     2,  1837,  1018,     7,    14,  3849,  3869,   881,\n",
              "           629,   976,     2,    23,     8]))"
            ]
          },
          "metadata": {},
          "execution_count": 29
        }
      ]
    },
    {
      "cell_type": "markdown",
      "source": [
        "## 🟠 Define Dataloader"
      ],
      "metadata": {
        "id": "NCQjacybOfqV"
      }
    },
    {
      "cell_type": "code",
      "source": [
        "batch_size = 20\n",
        "\n",
        "train_loader = DataLoader(train_set, batch_size=batch_size, shuffle=True)\n",
        "valid_loader = DataLoader(valid_set, batch_size=batch_size, shuffle=False)\n",
        "test_loader = DataLoader(test_set, batch_size=batch_size, shuffle=False)"
      ],
      "metadata": {
        "id": "KMCJ3UMD0U_f"
      },
      "execution_count": null,
      "outputs": []
    },
    {
      "cell_type": "code",
      "source": [
        "x_batch, y_batch = next(iter(train_loader))\n",
        "x_batch.shape, y_batch.shape"
      ],
      "metadata": {
        "colab": {
          "base_uri": "https://localhost:8080/"
        },
        "id": "yiz4pl6vA7p7",
        "outputId": "b11577f7-5383-452b-ec85-6c9daed79025"
      },
      "execution_count": null,
      "outputs": [
        {
          "output_type": "execute_result",
          "data": {
            "text/plain": [
              "(torch.Size([20, 35]), torch.Size([20, 35]))"
            ]
          },
          "metadata": {},
          "execution_count": 31
        }
      ]
    },
    {
      "cell_type": "markdown",
      "source": [
        "# 🔴 **Model**"
      ],
      "metadata": {
        "id": "3ttl0AK3Hvyh"
      }
    },
    {
      "cell_type": "markdown",
      "source": [
        "📌 The model consists of three parts:\n",
        "\n",
        "*   an embedding layer\n",
        "*   an LSTM layer\n",
        "*   a fully connected layer"
      ],
      "metadata": {
        "id": "06p-oBowTf-R"
      }
    },
    {
      "cell_type": "code",
      "source": [
        "class LanguageModel(nn.Module):\n",
        "\n",
        "  def __init__(self, vocab_size, embedding_dim, hidden_dim, num_layers, dropout_embd=0.5, dropout_rnn=0.5):\n",
        "    super().__init__()\n",
        "    self.num_layers = num_layers\n",
        "    self.hidden_dim = hidden_dim\n",
        "    self.embedding_dim = embedding_dim\n",
        "\n",
        "    self.embedding = nn.Embedding(vocab_size, embedding_dim)\n",
        "    self.embedding.weight.data.uniform_(-0.1, 0.1)\n",
        "    self.dropout = nn.Dropout(p=dropout_embd)\n",
        "    self.lstm = nn.LSTM(embedding_dim, hidden_dim, num_layers=num_layers, dropout=dropout_rnn, batch_first=True)\n",
        "    self.fc = nn.Linear(hidden_dim, vocab_size)\n",
        "\n",
        "\n",
        "  def forward(self, src):\n",
        "    embedding = self.dropout(self.embedding(src))\n",
        "    output, hidden = self.lstm(embedding)\n",
        "    prediction = self.fc(output)\n",
        "    return prediction"
      ],
      "metadata": {
        "id": "ISnnHE0BMVqp"
      },
      "execution_count": null,
      "outputs": []
    },
    {
      "cell_type": "code",
      "source": [
        "model = LanguageModel(vocab_size=len(vocab),\n",
        "                      embedding_dim=300,\n",
        "                      hidden_dim=512,\n",
        "                      num_layers=2,\n",
        "                      dropout_embd=0.65,\n",
        "                      dropout_rnn=0.5)\n",
        "model"
      ],
      "metadata": {
        "id": "2MgBVzorb9oQ",
        "colab": {
          "base_uri": "https://localhost:8080/"
        },
        "outputId": "ed7b49b6-0b6a-45bf-af49-f6aaf110d953"
      },
      "execution_count": null,
      "outputs": [
        {
          "output_type": "execute_result",
          "data": {
            "text/plain": [
              "LanguageModel(\n",
              "  (embedding): Embedding(28782, 300)\n",
              "  (dropout): Dropout(p=0.65, inplace=False)\n",
              "  (lstm): LSTM(300, 512, num_layers=2, batch_first=True, dropout=0.5)\n",
              "  (fc): Linear(in_features=512, out_features=28782, bias=True)\n",
              ")"
            ]
          },
          "metadata": {},
          "execution_count": 33
        }
      ]
    },
    {
      "cell_type": "code",
      "source": [
        "num_trainable_params(model.embedding), num_trainable_params(model.lstm), num_trainable_params(model.fc)"
      ],
      "metadata": {
        "colab": {
          "base_uri": "https://localhost:8080/"
        },
        "id": "j1jkJU0hpkr_",
        "outputId": "1389b5a1-0486-4162-9bf6-99d6ae5e36c3"
      },
      "execution_count": null,
      "outputs": [
        {
          "output_type": "execute_result",
          "data": {
            "text/plain": [
              "(8.6346, 3.76832, 14.765166)"
            ]
          },
          "metadata": {},
          "execution_count": 34
        }
      ]
    },
    {
      "cell_type": "code",
      "source": [
        "model(x_batch).shape"
      ],
      "metadata": {
        "colab": {
          "base_uri": "https://localhost:8080/"
        },
        "id": "DU4QCd2bqHZc",
        "outputId": "e4d782a6-c814-4abf-9980-5bd36642c8af"
      },
      "execution_count": null,
      "outputs": [
        {
          "output_type": "execute_result",
          "data": {
            "text/plain": [
              "torch.Size([20, 35, 28782])"
            ]
          },
          "metadata": {},
          "execution_count": 35
        }
      ]
    },
    {
      "cell_type": "markdown",
      "source": [
        "# 🔴 **Config**"
      ],
      "metadata": {
        "id": "24qT-sgUO2-d"
      }
    },
    {
      "cell_type": "code",
      "source": [
        "device = 'cuda' if torch.cuda.is_available() else 'cpu'\n",
        "device"
      ],
      "metadata": {
        "id": "Ma28M5Z36gsq",
        "colab": {
          "base_uri": "https://localhost:8080/",
          "height": 36
        },
        "outputId": "96580f77-4723-4c0e-9755-f14f698a56e2"
      },
      "execution_count": null,
      "outputs": [
        {
          "output_type": "execute_result",
          "data": {
            "text/plain": [
              "'cuda'"
            ],
            "application/vnd.google.colaboratory.intrinsic+json": {
              "type": "string"
            }
          },
          "metadata": {},
          "execution_count": 36
        }
      ]
    },
    {
      "cell_type": "code",
      "source": [
        "vocab_size = len(vocab)\n",
        "embedding_dim = 300\n",
        "hidden_dim = 512\n",
        "num_layers = 2\n",
        "dropout_embd = 0.5\n",
        "dropout_rnn = 0.2\n",
        "\n",
        "model = LanguageModel(vocab_size, embedding_dim,\n",
        "                      hidden_dim, num_layers,\n",
        "                      dropout_embd, dropout_rnn).to(device)"
      ],
      "metadata": {
        "id": "3g-ovmnPvzFI"
      },
      "execution_count": null,
      "outputs": []
    },
    {
      "cell_type": "code",
      "source": [
        "optimizer = optim.SGD(model.parameters(), lr=0.5, weight_decay=0, momentum=0.9)"
      ],
      "metadata": {
        "id": "yV4x8EOEv9vA"
      },
      "execution_count": null,
      "outputs": []
    },
    {
      "cell_type": "code",
      "source": [
        "loss_fn = nn.CrossEntropyLoss()"
      ],
      "metadata": {
        "id": "kIvgqn9ZwekS"
      },
      "execution_count": null,
      "outputs": []
    },
    {
      "cell_type": "code",
      "source": [
        "metric = tm.text.Perplexity().to(device)"
      ],
      "metadata": {
        "id": "vxxP3b0mwgJ9"
      },
      "execution_count": null,
      "outputs": []
    },
    {
      "cell_type": "code",
      "source": [
        "clip = 0.25"
      ],
      "metadata": {
        "id": "JL5IQ3kKZOk6"
      },
      "execution_count": null,
      "outputs": []
    },
    {
      "cell_type": "markdown",
      "source": [
        "# 🔴 **Train**"
      ],
      "metadata": {
        "id": "W0QNbC0YPCKZ"
      }
    },
    {
      "cell_type": "code",
      "source": [
        "def train_one_epoch(model, train_loader, loss_fn, optimizer, metric, epoch=None):\n",
        "  model.train()\n",
        "  loss_train = AverageMeter()\n",
        "  metric.reset()\n",
        "\n",
        "  with tqdm.tqdm(train_loader, unit='batch') as tepoch:\n",
        "    for inputs, targets in tepoch:\n",
        "      if epoch:\n",
        "        tepoch.set_description(f'Epoch {epoch}')\n",
        "\n",
        "      inputs = inputs.to(device)\n",
        "      targets = targets.to(device)\n",
        "\n",
        "      outputs = model(inputs)\n",
        "\n",
        "      loss = loss_fn(outputs.reshape(-1, outputs.shape[-1]), targets.flatten())\n",
        "\n",
        "      loss.backward()\n",
        "\n",
        "      nn.utils.clip_grad.clip_grad_norm_(model.parameters(), max_norm=clip)\n",
        "\n",
        "      optimizer.step()\n",
        "      optimizer.zero_grad()\n",
        "\n",
        "      loss_train.update(loss.item(), n=len(targets))\n",
        "      metric.update(outputs, targets)\n",
        "\n",
        "      tepoch.set_postfix(loss=loss_train.avg, metric=metric.compute().item())\n",
        "\n",
        "  return model, loss_train.avg, metric.compute().item()"
      ],
      "metadata": {
        "id": "WniOAgk0QyRI"
      },
      "execution_count": null,
      "outputs": []
    },
    {
      "cell_type": "markdown",
      "source": [
        "# 🔴 **Evaluation**"
      ],
      "metadata": {
        "id": "G9HgVWslPGsH"
      }
    },
    {
      "cell_type": "code",
      "source": [
        "def evaluate(model, test_loader, loss_fn, metric):\n",
        "  model.eval()\n",
        "  loss_eval = AverageMeter()\n",
        "  metric.reset()\n",
        "\n",
        "  with torch.inference_mode():\n",
        "    for inputs, targets in test_loader:\n",
        "      inputs = inputs.to(device)\n",
        "      targets = targets.to(device)\n",
        "\n",
        "      outputs = model(inputs)\n",
        "\n",
        "      loss = loss_fn(outputs.reshape(-1, outputs.shape[-1]), targets.flatten())\n",
        "      loss_eval.update(loss.item(), n=len(targets))\n",
        "\n",
        "      metric(outputs, targets)\n",
        "\n",
        "  return loss_eval.avg, metric.compute().item()"
      ],
      "metadata": {
        "id": "uV0_67_ZQ0xf"
      },
      "execution_count": null,
      "outputs": []
    },
    {
      "cell_type": "markdown",
      "source": [
        "# 🔴 **Training Process**"
      ],
      "metadata": {
        "id": "o_5f69nwPtY2"
      }
    },
    {
      "cell_type": "markdown",
      "source": [
        "## 🟠 Finding Hyper-parameters"
      ],
      "metadata": {
        "id": "De7VreNxQdct"
      }
    },
    {
      "cell_type": "markdown",
      "source": [
        "### 🟡 **Step 1:** Calculate the loss for an untrained model using a few batches\n"
      ],
      "metadata": {
        "id": "lpJ3wtyctQJH"
      }
    },
    {
      "cell_type": "code",
      "source": [
        "model = LanguageModel(len(vocab), embedding_dim=300,\n",
        "                      hidden_dim=512, num_layers=2,\n",
        "                      dropout_embd=0.5, dropout_rnn=0.2).to(device)\n",
        "\n",
        "inputs, targets = next(iter(train_set))\n",
        "inputs = inputs.to(device)\n",
        "targets = targets.to(device)\n",
        "\n",
        "with torch.no_grad():\n",
        "  outputs = model(inputs)\n",
        "  loss = loss_fn(outputs, targets)\n",
        "\n",
        "print(loss)"
      ],
      "metadata": {
        "id": "QnE4F4GkzzaR",
        "colab": {
          "base_uri": "https://localhost:8080/"
        },
        "outputId": "cddbc0ae-dc34-4071-bbf9-21fcd94a631d"
      },
      "execution_count": null,
      "outputs": [
        {
          "output_type": "stream",
          "name": "stdout",
          "text": [
            "tensor(10.2730, device='cuda:0')\n"
          ]
        }
      ]
    },
    {
      "cell_type": "markdown",
      "source": [
        "### 🟡 **Step 2:** Overfitting the model on a small subset of the dataset (loss → 0)"
      ],
      "metadata": {
        "id": "BrHQCv7q7LF_"
      }
    },
    {
      "cell_type": "code",
      "source": [
        "model = LanguageModel(len(vocab), embedding_dim=300,\n",
        "                      hidden_dim=512, num_layers=2,\n",
        "                      dropout_embd=0.5, dropout_rnn=0.2).to(device)\n",
        "\n",
        "optimizer = torch.optim.SGD(model.parameters(), lr=0.9, momentum=0.9)"
      ],
      "metadata": {
        "id": "G0ji0MXsWaPt"
      },
      "execution_count": null,
      "outputs": []
    },
    {
      "cell_type": "code",
      "source": [
        "mini_train_size = 1000\n",
        "_, mini_train_dataset = random_split(train_set, (len(train_set)-mini_train_size, mini_train_size))\n",
        "mini_train_loader = DataLoader(mini_train_dataset, 20)"
      ],
      "metadata": {
        "id": "kPRZQpPWJ2qv"
      },
      "execution_count": null,
      "outputs": []
    },
    {
      "cell_type": "code",
      "source": [
        "num_epochs = 100\n",
        "for epoch in range(num_epochs):\n",
        "  model, _, _ = train_one_epoch(model, mini_train_loader, loss_fn, optimizer, metric, epoch)"
      ],
      "metadata": {
        "id": "bNrg4d9hWaPt",
        "colab": {
          "base_uri": "https://localhost:8080/"
        },
        "outputId": "bc5cef9e-75da-4701-a82d-044d1ade192e"
      },
      "execution_count": null,
      "outputs": [
        {
          "output_type": "stream",
          "name": "stderr",
          "text": [
            "100%|██████████| 50/50 [00:02<00:00, 24.14batch/s, loss=8.24, metric=3.81e+3]\n",
            "Epoch 1: 100%|██████████| 50/50 [00:01<00:00, 25.51batch/s, loss=7.16, metric=1.29e+3]\n",
            "Epoch 2: 100%|██████████| 50/50 [00:01<00:00, 25.54batch/s, loss=6.98, metric=1.08e+3]\n",
            "Epoch 3: 100%|██████████| 50/50 [00:01<00:00, 25.00batch/s, loss=6.89, metric=985]\n",
            "Epoch 4: 100%|██████████| 50/50 [00:02<00:00, 24.47batch/s, loss=6.78, metric=881]\n",
            "Epoch 5: 100%|██████████| 50/50 [00:02<00:00, 24.48batch/s, loss=6.66, metric=781]\n",
            "Epoch 6: 100%|██████████| 50/50 [00:02<00:00, 24.81batch/s, loss=6.55, metric=697]\n",
            "Epoch 7: 100%|██████████| 50/50 [00:02<00:00, 24.86batch/s, loss=6.45, metric=633]\n",
            "Epoch 8: 100%|██████████| 50/50 [00:02<00:00, 24.79batch/s, loss=6.36, metric=578]\n",
            "Epoch 9: 100%|██████████| 50/50 [00:02<00:00, 24.81batch/s, loss=6.27, metric=531]\n",
            "Epoch 10: 100%|██████████| 50/50 [00:02<00:00, 24.78batch/s, loss=6.19, metric=490]\n",
            "Epoch 11: 100%|██████████| 50/50 [00:02<00:00, 23.36batch/s, loss=6.12, metric=454]\n",
            "Epoch 12: 100%|██████████| 50/50 [00:02<00:00, 24.81batch/s, loss=6.04, metric=419]\n",
            "Epoch 13: 100%|██████████| 50/50 [00:02<00:00, 24.72batch/s, loss=5.95, metric=385]\n",
            "Epoch 14: 100%|██████████| 50/50 [00:01<00:00, 25.37batch/s, loss=5.87, metric=354]\n",
            "Epoch 15: 100%|██████████| 50/50 [00:01<00:00, 25.94batch/s, loss=5.79, metric=326]\n",
            "Epoch 16: 100%|██████████| 50/50 [00:01<00:00, 25.82batch/s, loss=5.69, metric=296]\n",
            "Epoch 17: 100%|██████████| 50/50 [00:01<00:00, 25.94batch/s, loss=5.6, metric=270]\n",
            "Epoch 18: 100%|██████████| 50/50 [00:01<00:00, 25.78batch/s, loss=5.52, metric=249]\n",
            "Epoch 19: 100%|██████████| 50/50 [00:01<00:00, 25.13batch/s, loss=5.43, metric=229]\n",
            "Epoch 20: 100%|██████████| 50/50 [00:02<00:00, 24.86batch/s, loss=5.35, metric=211]\n",
            "Epoch 21: 100%|██████████| 50/50 [00:01<00:00, 25.47batch/s, loss=5.26, metric=192]\n",
            "Epoch 22: 100%|██████████| 50/50 [00:01<00:00, 26.08batch/s, loss=5.15, metric=173]\n",
            "Epoch 23: 100%|██████████| 50/50 [00:01<00:00, 25.90batch/s, loss=5.05, metric=156]\n",
            "Epoch 24: 100%|██████████| 50/50 [00:01<00:00, 25.93batch/s, loss=4.96, metric=142]\n",
            "Epoch 25: 100%|██████████| 50/50 [00:01<00:00, 25.84batch/s, loss=4.86, metric=129]\n",
            "Epoch 26: 100%|██████████| 50/50 [00:01<00:00, 25.79batch/s, loss=4.78, metric=119]\n",
            "Epoch 27: 100%|██████████| 50/50 [00:01<00:00, 25.21batch/s, loss=4.69, metric=109]\n",
            "Epoch 28: 100%|██████████| 50/50 [00:01<00:00, 25.46batch/s, loss=4.61, metric=100]\n",
            "Epoch 29: 100%|██████████| 50/50 [00:01<00:00, 25.90batch/s, loss=4.5, metric=90]\n",
            "Epoch 30: 100%|██████████| 50/50 [00:01<00:00, 25.87batch/s, loss=4.41, metric=82.2]\n",
            "Epoch 31: 100%|██████████| 50/50 [00:01<00:00, 25.92batch/s, loss=4.3, metric=73.7]\n",
            "Epoch 32: 100%|██████████| 50/50 [00:01<00:00, 26.00batch/s, loss=4.18, metric=65.3]\n",
            "Epoch 33: 100%|██████████| 50/50 [00:01<00:00, 26.02batch/s, loss=4.07, metric=58.3]\n",
            "Epoch 34: 100%|██████████| 50/50 [00:01<00:00, 25.25batch/s, loss=3.96, metric=52.6]\n",
            "Epoch 35: 100%|██████████| 50/50 [00:01<00:00, 25.16batch/s, loss=3.88, metric=48.4]\n",
            "Epoch 36: 100%|██████████| 50/50 [00:01<00:00, 26.11batch/s, loss=3.82, metric=45.4]\n",
            "Epoch 37: 100%|██████████| 50/50 [00:01<00:00, 26.14batch/s, loss=3.69, metric=40.2]\n",
            "Epoch 38: 100%|██████████| 50/50 [00:01<00:00, 26.09batch/s, loss=3.57, metric=35.6]\n",
            "Epoch 39: 100%|██████████| 50/50 [00:01<00:00, 26.10batch/s, loss=3.44, metric=31.3]\n",
            "Epoch 40: 100%|██████████| 50/50 [00:01<00:00, 25.97batch/s, loss=3.34, metric=28.3]\n",
            "Epoch 41: 100%|██████████| 50/50 [00:01<00:00, 25.72batch/s, loss=3.22, metric=25.1]\n",
            "Epoch 42: 100%|██████████| 50/50 [00:01<00:00, 25.26batch/s, loss=3.1, metric=22.1]\n",
            "Epoch 43: 100%|██████████| 50/50 [00:01<00:00, 25.45batch/s, loss=3, metric=20.1]\n",
            "Epoch 44: 100%|██████████| 50/50 [00:01<00:00, 25.31batch/s, loss=2.89, metric=18]\n",
            "Epoch 45: 100%|██████████| 50/50 [00:01<00:00, 25.02batch/s, loss=2.78, metric=16.1]\n",
            "Epoch 46: 100%|██████████| 50/50 [00:01<00:00, 25.36batch/s, loss=2.66, metric=14.3]\n",
            "Epoch 47: 100%|██████████| 50/50 [00:01<00:00, 25.53batch/s, loss=2.57, metric=13]\n",
            "Epoch 48: 100%|██████████| 50/50 [00:01<00:00, 25.15batch/s, loss=2.45, metric=11.6]\n",
            "Epoch 49: 100%|██████████| 50/50 [00:01<00:00, 25.19batch/s, loss=2.34, metric=10.4]\n",
            "Epoch 50: 100%|██████████| 50/50 [00:01<00:00, 25.10batch/s, loss=2.25, metric=9.52]\n",
            "Epoch 51: 100%|██████████| 50/50 [00:01<00:00, 25.46batch/s, loss=2.16, metric=8.71]\n",
            "Epoch 52: 100%|██████████| 50/50 [00:01<00:00, 25.26batch/s, loss=2.1, metric=8.13]\n",
            "Epoch 53: 100%|██████████| 50/50 [00:02<00:00, 24.53batch/s, loss=2.05, metric=7.74]\n",
            "Epoch 54: 100%|██████████| 50/50 [00:01<00:00, 25.50batch/s, loss=1.98, metric=7.26]\n",
            "Epoch 55: 100%|██████████| 50/50 [00:01<00:00, 25.29batch/s, loss=1.93, metric=6.87]\n",
            "Epoch 56: 100%|██████████| 50/50 [00:02<00:00, 24.90batch/s, loss=1.81, metric=6.1]\n",
            "Epoch 57: 100%|██████████| 50/50 [00:01<00:00, 25.11batch/s, loss=1.69, metric=5.45]\n",
            "Epoch 58: 100%|██████████| 50/50 [00:01<00:00, 25.71batch/s, loss=1.6, metric=4.95]\n",
            "Epoch 59: 100%|██████████| 50/50 [00:01<00:00, 25.79batch/s, loss=1.5, metric=4.48]\n",
            "Epoch 60: 100%|██████████| 50/50 [00:01<00:00, 25.59batch/s, loss=1.42, metric=4.14]\n",
            "Epoch 61: 100%|██████████| 50/50 [00:01<00:00, 25.72batch/s, loss=1.35, metric=3.87]\n",
            "Epoch 62: 100%|██████████| 50/50 [00:01<00:00, 25.48batch/s, loss=1.29, metric=3.65]\n",
            "Epoch 63: 100%|██████████| 50/50 [00:01<00:00, 25.18batch/s, loss=1.25, metric=3.48]\n",
            "Epoch 64: 100%|██████████| 50/50 [00:01<00:00, 25.19batch/s, loss=1.21, metric=3.34]\n",
            "Epoch 65: 100%|██████████| 50/50 [00:01<00:00, 25.75batch/s, loss=1.17, metric=3.23]\n",
            "Epoch 66: 100%|██████████| 50/50 [00:01<00:00, 25.87batch/s, loss=1.14, metric=3.13]\n",
            "Epoch 67: 100%|██████████| 50/50 [00:01<00:00, 26.05batch/s, loss=1.07, metric=2.92]\n",
            "Epoch 68: 100%|██████████| 50/50 [00:01<00:00, 26.02batch/s, loss=1.02, metric=2.78]\n",
            "Epoch 69: 100%|██████████| 50/50 [00:01<00:00, 25.97batch/s, loss=0.939, metric=2.56]\n",
            "Epoch 70: 100%|██████████| 50/50 [00:01<00:00, 25.37batch/s, loss=0.863, metric=2.37]\n",
            "Epoch 71: 100%|██████████| 50/50 [00:01<00:00, 25.22batch/s, loss=0.797, metric=2.22]\n",
            "Epoch 72: 100%|██████████| 50/50 [00:01<00:00, 26.10batch/s, loss=0.751, metric=2.12]\n",
            "Epoch 73: 100%|██████████| 50/50 [00:01<00:00, 26.08batch/s, loss=0.722, metric=2.06]\n",
            "Epoch 74: 100%|██████████| 50/50 [00:01<00:00, 26.00batch/s, loss=0.689, metric=1.99]\n",
            "Epoch 75: 100%|██████████| 50/50 [00:01<00:00, 25.66batch/s, loss=0.668, metric=1.95]\n",
            "Epoch 76: 100%|██████████| 50/50 [00:01<00:00, 25.98batch/s, loss=0.636, metric=1.89]\n",
            "Epoch 77: 100%|██████████| 50/50 [00:01<00:00, 25.63batch/s, loss=0.592, metric=1.81]\n",
            "Epoch 78: 100%|██████████| 50/50 [00:01<00:00, 25.47batch/s, loss=0.564, metric=1.76]\n",
            "Epoch 79: 100%|██████████| 50/50 [00:01<00:00, 25.72batch/s, loss=0.534, metric=1.71]\n",
            "Epoch 80: 100%|██████████| 50/50 [00:01<00:00, 26.32batch/s, loss=0.515, metric=1.67]\n",
            "Epoch 81: 100%|██████████| 50/50 [00:01<00:00, 25.72batch/s, loss=0.478, metric=1.61]\n",
            "Epoch 82: 100%|██████████| 50/50 [00:01<00:00, 25.97batch/s, loss=0.474, metric=1.61]\n",
            "Epoch 83: 100%|██████████| 50/50 [00:01<00:00, 26.03batch/s, loss=0.457, metric=1.58]\n",
            "Epoch 84: 100%|██████████| 50/50 [00:01<00:00, 25.54batch/s, loss=0.434, metric=1.54]\n",
            "Epoch 85: 100%|██████████| 50/50 [00:01<00:00, 25.23batch/s, loss=0.408, metric=1.5]\n",
            "Epoch 86: 100%|██████████| 50/50 [00:02<00:00, 23.11batch/s, loss=0.402, metric=1.5]\n",
            "Epoch 87: 100%|██████████| 50/50 [00:02<00:00, 24.26batch/s, loss=0.384, metric=1.47]\n",
            "Epoch 88: 100%|██████████| 50/50 [00:01<00:00, 25.82batch/s, loss=0.372, metric=1.45]\n",
            "Epoch 89: 100%|██████████| 50/50 [00:01<00:00, 26.02batch/s, loss=0.363, metric=1.44]\n",
            "Epoch 90: 100%|██████████| 50/50 [00:01<00:00, 25.81batch/s, loss=0.348, metric=1.42]\n",
            "Epoch 91: 100%|██████████| 50/50 [00:01<00:00, 25.64batch/s, loss=0.339, metric=1.4]\n",
            "Epoch 92: 100%|██████████| 50/50 [00:01<00:00, 25.23batch/s, loss=0.332, metric=1.39]\n",
            "Epoch 93: 100%|██████████| 50/50 [00:01<00:00, 25.03batch/s, loss=0.324, metric=1.38]\n",
            "Epoch 94: 100%|██████████| 50/50 [00:01<00:00, 25.79batch/s, loss=0.311, metric=1.36]\n",
            "Epoch 95: 100%|██████████| 50/50 [00:01<00:00, 25.93batch/s, loss=0.301, metric=1.35]\n",
            "Epoch 96: 100%|██████████| 50/50 [00:01<00:00, 25.83batch/s, loss=0.292, metric=1.34]\n",
            "Epoch 97: 100%|██████████| 50/50 [00:01<00:00, 25.76batch/s, loss=0.277, metric=1.32]\n",
            "Epoch 98: 100%|██████████| 50/50 [00:01<00:00, 25.65batch/s, loss=0.262, metric=1.3]\n",
            "Epoch 99: 100%|██████████| 50/50 [00:02<00:00, 24.96batch/s, loss=0.252, metric=1.29]\n"
          ]
        }
      ]
    },
    {
      "cell_type": "markdown",
      "source": [
        "### 🟡 **Step 3:** Training the model for a limited number of epochs, experimenting with various learning rates"
      ],
      "metadata": {
        "id": "BLT4w0ZfAhlJ"
      }
    },
    {
      "cell_type": "code",
      "source": [
        "num_epochs = 3\n",
        "\n",
        "for lr in [3, 1.5, 0.9, 0.3, 0.1]:\n",
        "  print(f'LR={lr}')\n",
        "\n",
        "  model = LanguageModel(len(vocab), embedding_dim=300,\n",
        "                        hidden_dim=512, num_layers=2,\n",
        "                        dropout_embd=0.5, dropout_rnn=0.2).to(device)\n",
        "\n",
        "  optimizer = optim.SGD(model.parameters(), lr=lr, weight_decay=0, momentum=0.9)\n",
        "\n",
        "  for epoch in range(num_epochs):\n",
        "    model, _, _ = train_one_epoch(model, train_loader, loss_fn, optimizer, metric, epoch)\n",
        "\n",
        "  print()"
      ],
      "metadata": {
        "id": "Jxz5DXoj61mg",
        "colab": {
          "base_uri": "https://localhost:8080/"
        },
        "outputId": "817d878e-d19a-4a92-a445-7dd8dbf963f6"
      },
      "execution_count": null,
      "outputs": [
        {
          "output_type": "stream",
          "name": "stdout",
          "text": [
            "LR=3\n"
          ]
        },
        {
          "output_type": "stream",
          "name": "stderr",
          "text": [
            "100%|██████████| 2929/2929 [01:49<00:00, 26.65batch/s, loss=5.88, metric=359]\n",
            "Epoch 1: 100%|██████████| 2929/2929 [01:54<00:00, 25.58batch/s, loss=5.24, metric=188]\n",
            "Epoch 2: 100%|██████████| 2929/2929 [01:55<00:00, 25.35batch/s, loss=4.96, metric=142]\n"
          ]
        },
        {
          "output_type": "stream",
          "name": "stdout",
          "text": [
            "\n",
            "LR=1.5\n"
          ]
        },
        {
          "output_type": "stream",
          "name": "stderr",
          "text": [
            "100%|██████████| 2929/2929 [01:49<00:00, 26.75batch/s, loss=6.03, metric=414]\n",
            "Epoch 1: 100%|██████████| 2929/2929 [01:53<00:00, 25.74batch/s, loss=5.33, metric=206]\n",
            "Epoch 2: 100%|██████████| 2929/2929 [01:54<00:00, 25.57batch/s, loss=5.01, metric=151]\n"
          ]
        },
        {
          "output_type": "stream",
          "name": "stdout",
          "text": [
            "\n",
            "LR=0.9\n"
          ]
        },
        {
          "output_type": "stream",
          "name": "stderr",
          "text": [
            "100%|██████████| 2929/2929 [01:49<00:00, 26.79batch/s, loss=6.19, metric=489]\n",
            "Epoch 1: 100%|██████████| 2929/2929 [01:54<00:00, 25.63batch/s, loss=5.51, metric=248]\n",
            "Epoch 2: 100%|██████████| 2929/2929 [01:54<00:00, 25.66batch/s, loss=5.21, metric=183]\n"
          ]
        },
        {
          "output_type": "stream",
          "name": "stdout",
          "text": [
            "\n",
            "LR=0.3\n"
          ]
        },
        {
          "output_type": "stream",
          "name": "stderr",
          "text": [
            "100%|██████████| 2929/2929 [01:49<00:00, 26.83batch/s, loss=6.65, metric=773]\n",
            "Epoch 1: 100%|██████████| 2929/2929 [01:53<00:00, 25.72batch/s, loss=6.02, metric=414]\n",
            "Epoch 2: 100%|██████████| 2929/2929 [01:53<00:00, 25.78batch/s, loss=5.76, metric=318]\n"
          ]
        },
        {
          "output_type": "stream",
          "name": "stdout",
          "text": [
            "\n",
            "LR=0.1\n"
          ]
        },
        {
          "output_type": "stream",
          "name": "stderr",
          "text": [
            "100%|██████████| 2929/2929 [01:48<00:00, 26.93batch/s, loss=7.06, metric=1.16e+3]\n",
            "Epoch 1: 100%|██████████| 2929/2929 [01:53<00:00, 25.80batch/s, loss=6.62, metric=748]\n",
            "Epoch 2: 100%|██████████| 2929/2929 [01:53<00:00, 25.73batch/s, loss=6.36, metric=581]"
          ]
        },
        {
          "output_type": "stream",
          "name": "stdout",
          "text": [
            "\n"
          ]
        },
        {
          "output_type": "stream",
          "name": "stderr",
          "text": [
            "\n"
          ]
        }
      ]
    },
    {
      "cell_type": "markdown",
      "source": [
        "### 🟡 **Step 4:** Create a small grid using the weight decay and the best learning rate\n",
        "\n",
        "\n",
        "\n"
      ],
      "metadata": {
        "id": "uC2GhaXfA8vC"
      }
    },
    {
      "cell_type": "code",
      "source": [
        "num_epochs = 1\n",
        "\n",
        "for lr in [3.]:\n",
        "  for wd in [1e-6, 1e-5, 1e-4]:\n",
        "    print(f'LR={lr}, WD={wd}')\n",
        "\n",
        "    model = LanguageModel(len(vocab), embedding_dim=300,\n",
        "                      hidden_dim=512, num_layers=2,\n",
        "                      dropout_embd=0.5, dropout_rnn=0.2).to(device)\n",
        "\n",
        "    optimizer = optim.SGD(model.parameters(), lr=lr, weight_decay=wd, momentum=0.9)\n",
        "\n",
        "    for epoch in range(num_epochs):\n",
        "      model, _, _ = train_one_epoch(model, train_loader, loss_fn, optimizer, metric, epoch)\n",
        "\n",
        "    print()"
      ],
      "metadata": {
        "id": "a7UeNW3WWaPu",
        "colab": {
          "base_uri": "https://localhost:8080/"
        },
        "outputId": "a06997e5-7a85-4290-f84e-a662049557d1"
      },
      "execution_count": null,
      "outputs": [
        {
          "output_type": "stream",
          "name": "stdout",
          "text": [
            "LR=3.0, WD=1e-06\n"
          ]
        },
        {
          "output_type": "stream",
          "name": "stderr",
          "text": [
            "100%|██████████| 2929/2929 [01:53<00:00, 25.88batch/s, loss=5.91, metric=367]\n"
          ]
        },
        {
          "output_type": "stream",
          "name": "stdout",
          "text": [
            "\n",
            "LR=3.0, WD=1e-05\n"
          ]
        },
        {
          "output_type": "stream",
          "name": "stderr",
          "text": [
            "100%|██████████| 2929/2929 [01:54<00:00, 25.65batch/s, loss=5.93, metric=376]\n"
          ]
        },
        {
          "output_type": "stream",
          "name": "stdout",
          "text": [
            "\n",
            "LR=3.0, WD=0.0001\n"
          ]
        },
        {
          "output_type": "stream",
          "name": "stderr",
          "text": [
            "100%|██████████| 2929/2929 [01:54<00:00, 25.67batch/s, loss=6.26, metric=523]"
          ]
        },
        {
          "output_type": "stream",
          "name": "stdout",
          "text": [
            "\n"
          ]
        },
        {
          "output_type": "stream",
          "name": "stderr",
          "text": [
            "\n"
          ]
        }
      ]
    },
    {
      "cell_type": "markdown",
      "source": [
        "## 🟠 Main Loop"
      ],
      "metadata": {
        "id": "rjGQ-M02cusP"
      }
    },
    {
      "cell_type": "markdown",
      "source": [
        "📌 Training the model for longer epochs using the best hyperparameters from **Step 4**"
      ],
      "metadata": {
        "id": "4AdYaMU4x34g"
      }
    },
    {
      "cell_type": "code",
      "source": [
        "model = LanguageModel(len(vocab), embedding_dim=300,\n",
        "                      hidden_dim=512, num_layers=2,\n",
        "                      dropout_embd=0.5, dropout_rnn=0.5).to(device)"
      ],
      "metadata": {
        "id": "JCtZXDybxexf"
      },
      "execution_count": null,
      "outputs": []
    },
    {
      "cell_type": "code",
      "source": [
        "lr = 3\n",
        "wd = 1e-6\n",
        "optimizer = optim.SGD(model.parameters(), lr=lr, weight_decay=wd, momentum=0.9)"
      ],
      "metadata": {
        "id": "bowjVB5yIXUP"
      },
      "execution_count": null,
      "outputs": []
    },
    {
      "cell_type": "code",
      "source": [
        "loss_train_hist = []\n",
        "loss_valid_hist = []\n",
        "\n",
        "metric_train_hist = []\n",
        "metric_valid_hist = []\n",
        "\n",
        "best_loss_valid = torch.inf\n",
        "epoch_counter = 0"
      ],
      "metadata": {
        "id": "CAXagB4yvtZd"
      },
      "execution_count": null,
      "outputs": []
    },
    {
      "cell_type": "code",
      "source": [
        "num_epochs = 30\n",
        "\n",
        "for epoch in range(1, num_epochs+1):\n",
        "  # Train\n",
        "  model, loss_train, metric_train = train_one_epoch(model,\n",
        "                                                    train_loader,\n",
        "                                                    loss_fn,\n",
        "                                                    optimizer,\n",
        "                                                    metric,\n",
        "                                                    epoch)\n",
        "  # Validation\n",
        "  loss_valid, metric_valid = evaluate(model,\n",
        "                                      valid_loader,\n",
        "                                      loss_fn,\n",
        "                                      metric)\n",
        "\n",
        "  loss_train_hist.append(loss_train)\n",
        "  loss_valid_hist.append(loss_valid)\n",
        "\n",
        "  metric_train_hist.append(metric_train)\n",
        "  metric_valid_hist.append(metric_valid)\n",
        "\n",
        "  if loss_valid < best_loss_valid:\n",
        "    torch.save(model, f'model.pt')\n",
        "    best_loss_valid = loss_valid\n",
        "    print('Model Saved!')\n",
        "\n",
        "  print(f'Valid: Loss = {loss_valid:.4}, Metric = {metric_valid:.4}')\n",
        "  print()\n",
        "\n",
        "  epoch_counter += 1"
      ],
      "metadata": {
        "id": "PovABWnU3ld0",
        "colab": {
          "base_uri": "https://localhost:8080/",
          "height": 1000
        },
        "outputId": "538c23cf-be89-45c0-daf7-fb6732699b25"
      },
      "execution_count": null,
      "outputs": [
        {
          "output_type": "stream",
          "name": "stderr",
          "text": [
            "Epoch 1: 100%|██████████| 2929/2929 [01:58<00:00, 24.75batch/s, loss=5.92, metric=371]\n"
          ]
        },
        {
          "output_type": "stream",
          "name": "stdout",
          "text": [
            "Model Saved!\n",
            "Valid: Loss = 5.329, Metric = 206.3\n",
            "\n"
          ]
        },
        {
          "output_type": "stream",
          "name": "stderr",
          "text": [
            "Epoch 2: 100%|██████████| 2929/2929 [01:58<00:00, 24.76batch/s, loss=5.32, metric=203]\n"
          ]
        },
        {
          "output_type": "stream",
          "name": "stdout",
          "text": [
            "Model Saved!\n",
            "Valid: Loss = 5.152, Metric = 172.9\n",
            "\n"
          ]
        },
        {
          "output_type": "stream",
          "name": "stderr",
          "text": [
            "Epoch 3: 100%|██████████| 2929/2929 [01:58<00:00, 24.71batch/s, loss=5.07, metric=160]\n"
          ]
        },
        {
          "output_type": "stream",
          "name": "stdout",
          "text": [
            "Model Saved!\n",
            "Valid: Loss = 5.062, Metric = 158.0\n",
            "\n"
          ]
        },
        {
          "output_type": "stream",
          "name": "stderr",
          "text": [
            "Epoch 4: 100%|██████████| 2929/2929 [01:58<00:00, 24.79batch/s, loss=4.92, metric=137]\n"
          ]
        },
        {
          "output_type": "stream",
          "name": "stdout",
          "text": [
            "Model Saved!\n",
            "Valid: Loss = 5.036, Metric = 153.9\n",
            "\n"
          ]
        },
        {
          "output_type": "stream",
          "name": "stderr",
          "text": [
            "Epoch 5: 100%|██████████| 2929/2929 [01:58<00:00, 24.68batch/s, loss=4.81, metric=123]\n"
          ]
        },
        {
          "output_type": "stream",
          "name": "stdout",
          "text": [
            "Model Saved!\n",
            "Valid: Loss = 5.005, Metric = 149.1\n",
            "\n"
          ]
        },
        {
          "output_type": "stream",
          "name": "stderr",
          "text": [
            "Epoch 6: 100%|██████████| 2929/2929 [01:58<00:00, 24.72batch/s, loss=4.72, metric=112]\n"
          ]
        },
        {
          "output_type": "stream",
          "name": "stdout",
          "text": [
            "Valid: Loss = 5.009, Metric = 149.7\n",
            "\n"
          ]
        },
        {
          "output_type": "stream",
          "name": "stderr",
          "text": [
            "Epoch 7: 100%|██████████| 2929/2929 [01:58<00:00, 24.80batch/s, loss=4.65, metric=105]\n"
          ]
        },
        {
          "output_type": "stream",
          "name": "stdout",
          "text": [
            "Model Saved!\n",
            "Valid: Loss = 5.003, Metric = 148.9\n",
            "\n"
          ]
        },
        {
          "output_type": "stream",
          "name": "stderr",
          "text": [
            "Epoch 8: 100%|██████████| 2929/2929 [01:58<00:00, 24.81batch/s, loss=4.6, metric=99.1]\n"
          ]
        },
        {
          "output_type": "stream",
          "name": "stdout",
          "text": [
            "Model Saved!\n",
            "Valid: Loss = 4.996, Metric = 147.8\n",
            "\n"
          ]
        },
        {
          "output_type": "stream",
          "name": "stderr",
          "text": [
            "Epoch 9: 100%|██████████| 2929/2929 [01:58<00:00, 24.65batch/s, loss=4.55, metric=94.3]\n"
          ]
        },
        {
          "output_type": "stream",
          "name": "stdout",
          "text": [
            "Valid: Loss = 5.006, Metric = 149.4\n",
            "\n"
          ]
        },
        {
          "output_type": "stream",
          "name": "stderr",
          "text": [
            "Epoch 10: 100%|██████████| 2929/2929 [02:00<00:00, 24.39batch/s, loss=4.5, metric=90.3]\n"
          ]
        },
        {
          "output_type": "stream",
          "name": "stdout",
          "text": [
            "Valid: Loss = 5.016, Metric = 150.9\n",
            "\n"
          ]
        },
        {
          "output_type": "stream",
          "name": "stderr",
          "text": [
            "Epoch 11: 100%|██████████| 2929/2929 [02:00<00:00, 24.35batch/s, loss=4.47, metric=87]\n"
          ]
        },
        {
          "output_type": "stream",
          "name": "stdout",
          "text": [
            "Valid: Loss = 5.023, Metric = 151.9\n",
            "\n"
          ]
        },
        {
          "output_type": "stream",
          "name": "stderr",
          "text": [
            "Epoch 12: 100%|██████████| 2929/2929 [01:59<00:00, 24.41batch/s, loss=4.43, metric=84.2]\n"
          ]
        },
        {
          "output_type": "stream",
          "name": "stdout",
          "text": [
            "Valid: Loss = 5.02, Metric = 151.4\n",
            "\n"
          ]
        },
        {
          "output_type": "stream",
          "name": "stderr",
          "text": [
            "Epoch 13:  19%|█▉        | 551/2929 [00:22<01:37, 24.42batch/s, loss=4.31, metric=74.5]\n"
          ]
        },
        {
          "output_type": "error",
          "ename": "KeyboardInterrupt",
          "evalue": "",
          "traceback": [
            "\u001b[0;31m---------------------------------------------------------------------------\u001b[0m",
            "\u001b[0;31mKeyboardInterrupt\u001b[0m                         Traceback (most recent call last)",
            "\u001b[0;32m<ipython-input-67-922dac8768e3>\u001b[0m in \u001b[0;36m<cell line: 3>\u001b[0;34m()\u001b[0m\n\u001b[1;32m      3\u001b[0m \u001b[0;32mfor\u001b[0m \u001b[0mepoch\u001b[0m \u001b[0;32min\u001b[0m \u001b[0mrange\u001b[0m\u001b[0;34m(\u001b[0m\u001b[0;36m1\u001b[0m\u001b[0;34m,\u001b[0m \u001b[0mnum_epochs\u001b[0m\u001b[0;34m+\u001b[0m\u001b[0;36m1\u001b[0m\u001b[0;34m)\u001b[0m\u001b[0;34m:\u001b[0m\u001b[0;34m\u001b[0m\u001b[0;34m\u001b[0m\u001b[0m\n\u001b[1;32m      4\u001b[0m   \u001b[0;31m# Train\u001b[0m\u001b[0;34m\u001b[0m\u001b[0;34m\u001b[0m\u001b[0m\n\u001b[0;32m----> 5\u001b[0;31m   model, loss_train, metric_train = train_one_epoch(model,\n\u001b[0m\u001b[1;32m      6\u001b[0m                                                     \u001b[0mtrain_loader\u001b[0m\u001b[0;34m,\u001b[0m\u001b[0;34m\u001b[0m\u001b[0;34m\u001b[0m\u001b[0m\n\u001b[1;32m      7\u001b[0m                                                     \u001b[0mloss_fn\u001b[0m\u001b[0;34m,\u001b[0m\u001b[0;34m\u001b[0m\u001b[0;34m\u001b[0m\u001b[0m\n",
            "\u001b[0;32m<ipython-input-51-4e36ce1f461e>\u001b[0m in \u001b[0;36mtrain_one_epoch\u001b[0;34m(model, train_loader, loss_fn, optimizer, metric, epoch)\u001b[0m\n\u001b[1;32m     23\u001b[0m       \u001b[0moptimizer\u001b[0m\u001b[0;34m.\u001b[0m\u001b[0mzero_grad\u001b[0m\u001b[0;34m(\u001b[0m\u001b[0;34m)\u001b[0m\u001b[0;34m\u001b[0m\u001b[0;34m\u001b[0m\u001b[0m\n\u001b[1;32m     24\u001b[0m \u001b[0;34m\u001b[0m\u001b[0m\n\u001b[0;32m---> 25\u001b[0;31m       \u001b[0mloss_train\u001b[0m\u001b[0;34m.\u001b[0m\u001b[0mupdate\u001b[0m\u001b[0;34m(\u001b[0m\u001b[0mloss\u001b[0m\u001b[0;34m.\u001b[0m\u001b[0mitem\u001b[0m\u001b[0;34m(\u001b[0m\u001b[0;34m)\u001b[0m\u001b[0;34m,\u001b[0m \u001b[0mn\u001b[0m\u001b[0;34m=\u001b[0m\u001b[0mlen\u001b[0m\u001b[0;34m(\u001b[0m\u001b[0mtargets\u001b[0m\u001b[0;34m)\u001b[0m\u001b[0;34m)\u001b[0m\u001b[0;34m\u001b[0m\u001b[0;34m\u001b[0m\u001b[0m\n\u001b[0m\u001b[1;32m     26\u001b[0m       \u001b[0mmetric\u001b[0m\u001b[0;34m.\u001b[0m\u001b[0mupdate\u001b[0m\u001b[0;34m(\u001b[0m\u001b[0moutputs\u001b[0m\u001b[0;34m,\u001b[0m \u001b[0mtargets\u001b[0m\u001b[0;34m)\u001b[0m\u001b[0;34m\u001b[0m\u001b[0;34m\u001b[0m\u001b[0m\n\u001b[1;32m     27\u001b[0m \u001b[0;34m\u001b[0m\u001b[0m\n",
            "\u001b[0;31mKeyboardInterrupt\u001b[0m: "
          ]
        }
      ]
    },
    {
      "cell_type": "code",
      "source": [
        "! cp /content/model.pt /content/drive/MyDrive/"
      ],
      "metadata": {
        "id": "pzlQN880GEoD"
      },
      "execution_count": null,
      "outputs": []
    },
    {
      "cell_type": "markdown",
      "source": [
        "## 🟠 Plot"
      ],
      "metadata": {
        "id": "oK20iNRI3Xxb"
      }
    },
    {
      "cell_type": "code",
      "source": [
        "plt.figure(figsize=(8, 6))\n",
        "\n",
        "plt.plot(range(epoch_counter), loss_train_hist, 'r-', label='Train')\n",
        "plt.plot(range(epoch_counter), loss_valid_hist, 'b-', label='Validation')\n",
        "\n",
        "plt.xlabel('Epoch')\n",
        "plt.ylabel('loss')\n",
        "plt.grid(True)\n",
        "plt.legend()"
      ],
      "metadata": {
        "id": "KYFzTsdIOkVp",
        "colab": {
          "base_uri": "https://localhost:8080/",
          "height": 560
        },
        "outputId": "18dc46b9-0941-46bc-db3b-381464fbf933"
      },
      "execution_count": null,
      "outputs": [
        {
          "output_type": "execute_result",
          "data": {
            "text/plain": [
              "<matplotlib.legend.Legend at 0x79f113bcaef0>"
            ]
          },
          "metadata": {},
          "execution_count": 69
        },
        {
          "output_type": "display_data",
          "data": {
            "text/plain": [
              "<Figure size 800x600 with 1 Axes>"
            ],
            "image/png": "[encoded data removed]"
          },
          "metadata": {}
        }
      ]
    },
    {
      "cell_type": "markdown",
      "source": [
        "## 🟠 Improving Model"
      ],
      "metadata": {
        "id": "dLVApK0qFB-C"
      }
    },
    {
      "cell_type": "markdown",
      "source": [
        "### 🟡 Experimenting the best model with new learning rates"
      ],
      "metadata": {
        "id": "6TaQe58jFdGe"
      }
    },
    {
      "cell_type": "code",
      "source": [
        "num_epochs = 1\n",
        "\n",
        "for lr in [2, 0.9, 0.5, 0.3, 0.09, 0.05]:\n",
        "  print(f'LR={lr}')\n",
        "\n",
        "  model = torch.load('/content/model.pt')\n",
        "\n",
        "  optimizer = optim.SGD(model.parameters(), lr=lr, weight_decay=1e-6, momentum=0.9)\n",
        "\n",
        "  for epoch in range(num_epochs):\n",
        "    model, _, _ = train_one_epoch(model, train_loader, loss_fn, optimizer, metric, epoch)\n",
        "\n",
        "  print()"
      ],
      "metadata": {
        "colab": {
          "base_uri": "https://localhost:8080/"
        },
        "outputId": "84c4ea76-6b4b-46ee-e3cf-dfe9f7c34573",
        "id": "857cuTAgFdGk"
      },
      "execution_count": null,
      "outputs": [
        {
          "output_type": "stream",
          "name": "stdout",
          "text": [
            "LR=2\n"
          ]
        },
        {
          "output_type": "stream",
          "name": "stderr",
          "text": [
            "100%|██████████| 2929/2929 [01:56<00:00, 25.22batch/s, loss=4.43, metric=83.5]\n"
          ]
        },
        {
          "output_type": "stream",
          "name": "stdout",
          "text": [
            "\n",
            "LR=0.9\n"
          ]
        },
        {
          "output_type": "stream",
          "name": "stderr",
          "text": [
            "100%|██████████| 2929/2929 [01:55<00:00, 25.37batch/s, loss=4.31, metric=74.7]\n"
          ]
        },
        {
          "output_type": "stream",
          "name": "stdout",
          "text": [
            "\n",
            "LR=0.5\n"
          ]
        },
        {
          "output_type": "stream",
          "name": "stderr",
          "text": [
            "100%|██████████| 2929/2929 [01:55<00:00, 25.47batch/s, loss=4.29, metric=73]\n"
          ]
        },
        {
          "output_type": "stream",
          "name": "stdout",
          "text": [
            "\n",
            "LR=0.3\n"
          ]
        },
        {
          "output_type": "stream",
          "name": "stderr",
          "text": [
            "100%|██████████| 2929/2929 [01:54<00:00, 25.51batch/s, loss=4.29, metric=73.2]\n"
          ]
        },
        {
          "output_type": "stream",
          "name": "stdout",
          "text": [
            "\n",
            "LR=0.09\n"
          ]
        },
        {
          "output_type": "stream",
          "name": "stderr",
          "text": [
            "100%|██████████| 2929/2929 [01:53<00:00, 25.79batch/s, loss=4.32, metric=75.5]\n"
          ]
        },
        {
          "output_type": "stream",
          "name": "stdout",
          "text": [
            "\n",
            "LR=0.05\n"
          ]
        },
        {
          "output_type": "stream",
          "name": "stderr",
          "text": [
            "100%|██████████| 2929/2929 [01:54<00:00, 25.57batch/s, loss=4.34, metric=77]"
          ]
        },
        {
          "output_type": "stream",
          "name": "stdout",
          "text": [
            "\n"
          ]
        },
        {
          "output_type": "stream",
          "name": "stderr",
          "text": [
            "\n"
          ]
        }
      ]
    },
    {
      "cell_type": "markdown",
      "source": [
        "### 🟡 Training the best model for longer epochs"
      ],
      "metadata": {
        "id": "aiUgKAAtHS5k"
      }
    },
    {
      "cell_type": "code",
      "source": [
        "model = torch.load('/content/model.pt')"
      ],
      "metadata": {
        "id": "bhicZKCLHWcr"
      },
      "execution_count": null,
      "outputs": []
    },
    {
      "cell_type": "code",
      "source": [
        "lr = 0.5    # NEW LEARNING RATE\n",
        "wd = 1e-6\n",
        "optimizer = optim.SGD(model.parameters(), lr=lr, weight_decay=wd, momentum=0.9)"
      ],
      "metadata": {
        "id": "8K08EKoDHj4S"
      },
      "execution_count": null,
      "outputs": []
    },
    {
      "cell_type": "code",
      "source": [
        "num_epochs = 10\n",
        "\n",
        "for epoch in range(1, num_epochs+1):\n",
        "  # Train\n",
        "  model, loss_train, metric_train = train_one_epoch(model,\n",
        "                                                    train_loader,\n",
        "                                                    loss_fn,\n",
        "                                                    optimizer,\n",
        "                                                    metric,\n",
        "                                                    epoch)\n",
        "  # Validation\n",
        "  loss_valid, metric_valid = evaluate(model,\n",
        "                                      valid_loader,\n",
        "                                      loss_fn,\n",
        "                                      metric)\n",
        "\n",
        "  loss_train_hist.append(loss_train)\n",
        "  loss_valid_hist.append(loss_valid)\n",
        "\n",
        "  metric_train_hist.append(metric_train)\n",
        "  metric_valid_hist.append(metric_valid)\n",
        "\n",
        "  if loss_valid < best_loss_valid:\n",
        "    torch.save(model, f'new-model.pt')\n",
        "    best_loss_valid = loss_valid\n",
        "    print('Model Saved!')\n",
        "\n",
        "  print(f'Valid: Loss = {loss_valid:.4}, Metric = {metric_valid:.4}')\n",
        "  print()\n",
        "\n",
        "  epoch_counter += 1"
      ],
      "metadata": {
        "colab": {
          "base_uri": "https://localhost:8080/"
        },
        "id": "tjrP8M27HrV1",
        "outputId": "2be62c44-2965-4076-e5b7-f0d7dfc6e304"
      },
      "execution_count": null,
      "outputs": [
        {
          "output_type": "stream",
          "name": "stderr",
          "text": [
            "Epoch 1: 100%|██████████| 2929/2929 [01:58<00:00, 24.67batch/s, loss=4.29, metric=73.1]\n"
          ]
        },
        {
          "output_type": "stream",
          "name": "stdout",
          "text": [
            "Model Saved!\n",
            "Valid: Loss = 4.907, Metric = 135.3\n",
            "\n"
          ]
        },
        {
          "output_type": "stream",
          "name": "stderr",
          "text": [
            "Epoch 2: 100%|██████████| 2929/2929 [01:59<00:00, 24.50batch/s, loss=4.2, metric=66.8]\n"
          ]
        },
        {
          "output_type": "stream",
          "name": "stdout",
          "text": [
            "Model Saved!\n",
            "Valid: Loss = 4.902, Metric = 134.6\n",
            "\n"
          ]
        },
        {
          "output_type": "stream",
          "name": "stderr",
          "text": [
            "Epoch 3: 100%|██████████| 2929/2929 [01:58<00:00, 24.68batch/s, loss=4.15, metric=63.7]\n"
          ]
        },
        {
          "output_type": "stream",
          "name": "stdout",
          "text": [
            "Model Saved!\n",
            "Valid: Loss = 4.894, Metric = 133.5\n",
            "\n"
          ]
        },
        {
          "output_type": "stream",
          "name": "stderr",
          "text": [
            "Epoch 4: 100%|██████████| 2929/2929 [01:58<00:00, 24.62batch/s, loss=4.11, metric=61.1]\n"
          ]
        },
        {
          "output_type": "stream",
          "name": "stdout",
          "text": [
            "Valid: Loss = 4.901, Metric = 134.5\n",
            "\n"
          ]
        },
        {
          "output_type": "stream",
          "name": "stderr",
          "text": [
            "Epoch 5: 100%|██████████| 2929/2929 [01:58<00:00, 24.67batch/s, loss=4.08, metric=59.1]\n"
          ]
        },
        {
          "output_type": "stream",
          "name": "stdout",
          "text": [
            "Valid: Loss = 4.899, Metric = 134.2\n",
            "\n"
          ]
        },
        {
          "output_type": "stream",
          "name": "stderr",
          "text": [
            "Epoch 6: 100%|██████████| 2929/2929 [01:59<00:00, 24.55batch/s, loss=4.05, metric=57.3]\n"
          ]
        },
        {
          "output_type": "stream",
          "name": "stdout",
          "text": [
            "Valid: Loss = 4.898, Metric = 134.1\n",
            "\n"
          ]
        },
        {
          "output_type": "stream",
          "name": "stderr",
          "text": [
            "Epoch 7: 100%|██████████| 2929/2929 [01:58<00:00, 24.65batch/s, loss=4.02, metric=55.7]\n"
          ]
        },
        {
          "output_type": "stream",
          "name": "stdout",
          "text": [
            "Valid: Loss = 4.907, Metric = 135.2\n",
            "\n"
          ]
        },
        {
          "output_type": "stream",
          "name": "stderr",
          "text": [
            "Epoch 8: 100%|██████████| 2929/2929 [01:58<00:00, 24.67batch/s, loss=3.99, metric=54.2]\n"
          ]
        },
        {
          "output_type": "stream",
          "name": "stdout",
          "text": [
            "Valid: Loss = 4.908, Metric = 135.3\n",
            "\n"
          ]
        },
        {
          "output_type": "stream",
          "name": "stderr",
          "text": [
            "Epoch 9: 100%|██████████| 2929/2929 [01:58<00:00, 24.62batch/s, loss=3.97, metric=52.8]\n"
          ]
        },
        {
          "output_type": "stream",
          "name": "stdout",
          "text": [
            "Valid: Loss = 4.904, Metric = 134.9\n",
            "\n"
          ]
        },
        {
          "output_type": "stream",
          "name": "stderr",
          "text": [
            "Epoch 10: 100%|██████████| 2929/2929 [01:59<00:00, 24.56batch/s, loss=3.94, metric=51.5]\n"
          ]
        },
        {
          "output_type": "stream",
          "name": "stdout",
          "text": [
            "Valid: Loss = 4.912, Metric = 136.0\n",
            "\n"
          ]
        }
      ]
    },
    {
      "cell_type": "code",
      "source": [
        "! cp '/content/new-model.pt' '/content/drive/MyDrive/'"
      ],
      "metadata": {
        "id": "-PJRNF8JKH3W"
      },
      "execution_count": null,
      "outputs": []
    },
    {
      "cell_type": "markdown",
      "source": [
        "### 🟡 Plotting learning curves"
      ],
      "metadata": {
        "id": "H3kEkLS7KTXw"
      }
    },
    {
      "cell_type": "code",
      "source": [
        "plt.figure(figsize=(8, 6))\n",
        "\n",
        "plt.plot(range(epoch_counter), loss_train_hist, 'r-', label='Train')\n",
        "plt.plot(range(epoch_counter), loss_valid_hist, 'b-', label='Validation')\n",
        "\n",
        "plt.xlabel('Epoch')\n",
        "plt.ylabel('loss')\n",
        "plt.grid(True)\n",
        "plt.legend()"
      ],
      "metadata": {
        "colab": {
          "base_uri": "https://localhost:8080/",
          "height": 562
        },
        "outputId": "3890507d-b389-4745-fc21-1d3a957888d5",
        "id": "l14KUUuGKTXw"
      },
      "execution_count": null,
      "outputs": [
        {
          "output_type": "execute_result",
          "data": {
            "text/plain": [
              "<matplotlib.legend.Legend at 0x79f112e72830>"
            ]
          },
          "metadata": {},
          "execution_count": 75
        },
        {
          "output_type": "display_data",
          "data": {
            "text/plain": [
              "<Figure size 800x600 with 1 Axes>"
            ],
            "image/png": "[encoded data removed]"
          },
          "metadata": {}
        }
      ]
    },
    {
      "cell_type": "markdown",
      "source": [
        "# 🔴 **Test**"
      ],
      "metadata": {
        "id": "KZ9UIdmkfxlA"
      }
    },
    {
      "cell_type": "code",
      "source": [
        "model_path = '/content/drive/MyDrive/new-model.pt'\n",
        "model = torch.load(model_path)\n",
        "model.eval()"
      ],
      "metadata": {
        "id": "35sn67IhKcm_",
        "colab": {
          "base_uri": "https://localhost:8080/"
        },
        "outputId": "e7cbc902-160c-4fda-d64e-f2faa7a15bf4"
      },
      "execution_count": null,
      "outputs": [
        {
          "output_type": "execute_result",
          "data": {
            "text/plain": [
              "LanguageModel(\n",
              "  (embedding): Embedding(28782, 300)\n",
              "  (dropout): Dropout(p=0.5, inplace=False)\n",
              "  (lstm): LSTM(300, 512, num_layers=2, batch_first=True, dropout=0.5)\n",
              "  (fc): Linear(in_features=512, out_features=28782, bias=True)\n",
              ")"
            ]
          },
          "metadata": {},
          "execution_count": 87
        }
      ]
    },
    {
      "cell_type": "code",
      "source": [
        "loss_test, metric_test = evaluate(model, test_loader, loss_fn, metric)\n",
        "metric_test"
      ],
      "metadata": {
        "colab": {
          "base_uri": "https://localhost:8080/"
        },
        "id": "AV9jzfjkQcjm",
        "outputId": "ebeeafa1-3bfb-4798-f7dd-9e8d3edc62d1"
      },
      "execution_count": null,
      "outputs": [
        {
          "output_type": "execute_result",
          "data": {
            "text/plain": [
              "125.78819274902344"
            ]
          },
          "metadata": {},
          "execution_count": 88
        }
      ]
    },
    {
      "cell_type": "markdown",
      "source": [
        "# 🔴 **Generate**"
      ],
      "metadata": {
        "id": "FzcQQwFuar_7"
      }
    },
    {
      "cell_type": "code",
      "source": [
        "model_path = '/content/drive/MyDrive/new-model.pt'\n",
        "model = torch.load(model_path)\n",
        "model.eval()"
      ],
      "metadata": {
        "id": "pskvb--R-wJ0",
        "colab": {
          "base_uri": "https://localhost:8080/"
        },
        "outputId": "7db344d0-392b-4f2e-df38-0e8e98bed64d"
      },
      "execution_count": null,
      "outputs": [
        {
          "output_type": "execute_result",
          "data": {
            "text/plain": [
              "LanguageModel(\n",
              "  (embedding): Embedding(28782, 300)\n",
              "  (dropout): Dropout(p=0.5, inplace=False)\n",
              "  (lstm): LSTM(300, 512, num_layers=2, batch_first=True, dropout=0.5)\n",
              "  (fc): Linear(in_features=512, out_features=28782, bias=True)\n",
              ")"
            ]
          },
          "metadata": {},
          "execution_count": 89
        }
      ]
    },
    {
      "cell_type": "code",
      "source": [
        "def generate(prompt, max_seq_len, temperature, model, tokenizer, vocab, seed=None):\n",
        "  if seed is not None:\n",
        "    torch.manual_seed(seed)\n",
        "\n",
        "  indices = vocab(tokenizer(prompt))\n",
        "  itos = vocab.get_itos()\n",
        "\n",
        "  for i in range(max_seq_len):\n",
        "    src = torch.LongTensor(indices).to(device)\n",
        "\n",
        "    with torch.no_grad():\n",
        "      prediction = model(src)\n",
        "\n",
        "    # Method 1\n",
        "    # idx = torch.argmax(prediction[-1])\n",
        "    # token = itos[idx]\n",
        "\n",
        "    # Method 2\n",
        "    probs = torch.softmax(prediction[-1]/temperature, dim=0)\n",
        "\n",
        "    idx = vocab['<unk>']\n",
        "    while idx == vocab['<unk>']:\n",
        "      idx = torch.multinomial(probs, num_samples=1).item()\n",
        "\n",
        "    token = itos[idx]\n",
        "    prompt += ' ' + token\n",
        "\n",
        "    if idx == vocab['.']:\n",
        "      return prompt\n",
        "\n",
        "    indices.append(idx)\n",
        "\n",
        "  return prompt"
      ],
      "metadata": {
        "id": "f5SvSDLal8YB"
      },
      "execution_count": null,
      "outputs": []
    },
    {
      "cell_type": "code",
      "source": [
        "prompts = ['In a galaxy far, far away, there',\n",
        "           'The sun was setting in the',\n",
        "           'Once upon a time, there lived a young princess named']\n",
        "\n",
        "for i in prompts:\n",
        "    print(generate(i, 35, 0.5, model, tokenizer, vocab))"
      ],
      "metadata": {
        "colab": {
          "base_uri": "https://localhost:8080/"
        },
        "id": "MKx27Hk3bp6m",
        "outputId": "37e3375a-61f8-4e2f-ff8c-f059f4bb147c"
      },
      "execution_count": null,
      "outputs": [
        {
          "output_type": "stream",
          "name": "stdout",
          "text": [
            "In a galaxy far, far away, there are few different names in the genus inocybe , and are now a common name .\n",
            "The sun was setting in the form of a female , a sequence of the planet , and the other hand .\n",
            "Once upon a time, there lived a young princess named s house of the church of scientology , and the design became a new one .\n"
          ]
        }
      ]
    }
  ]
}